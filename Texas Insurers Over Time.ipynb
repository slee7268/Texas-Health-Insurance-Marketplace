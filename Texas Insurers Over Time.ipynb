{
 "cells": [
  {
   "cell_type": "code",
   "execution_count": 1,
   "metadata": {
    "collapsed": true
   },
   "outputs": [],
   "source": [
    "import pandas as pd\n",
    "%matplotlib inline\n",
    "import matplotlib.pyplot as plt\n",
    "import numpy as np\n",
    "from sklearn.linear_model import LogisticRegression\n",
    "import statsmodels.api as sm\n",
    "import seaborn as sns\n",
    "import re\n",
    "import scipy"
   ]
  },
  {
   "cell_type": "code",
   "execution_count": 2,
   "metadata": {
    "collapsed": true
   },
   "outputs": [],
   "source": [
    "plans2014=pd.read_excel(\"Individual_Market_Medical_8_11_14.xlsx\")\n",
    "plans2015=pd.read_excel(\"PY2015_Med-Indi-Land-08-13-2015.xlsx\")\n",
    "NM2015=pd.read_excel(\"PY2015_NM-Med-Indi-Land-08-13-2015.xlsx\")\n",
    "NV2015=pd.read_excel(\"PY2015_NV-Med-Indi-Land-08-13-2015.xlsx\")\n",
    "OR2015=pd.read_excel(\"PY2015_OR-Med-Indi-Land-08-13-2015.xlsx\")\n",
    "plans2015=plans2015.append(NM2015)\n",
    "plans2015=plans2015.append(NV2015)\n",
    "plans2015=plans2015.append(OR2015)\n",
    "plans2016=pd.read_excel(\"PY2016_Med-Indi-Land-07-29-2016.xlsx\")\n",
    "plans2017=pd.read_excel(\"PY2017_Individual_Market_Medical_05_10_2017.xlsx\")"
   ]
  },
  {
   "cell_type": "code",
   "execution_count": 3,
   "metadata": {
    "collapsed": false
   },
   "outputs": [],
   "source": [
    "openEnrollment2015=pd.read_excel(\"2015_OEP_County-Level_Public_Use_File.xlsx\", \"(1) Consumer Type\")"
   ]
  },
  {
   "cell_type": "code",
   "execution_count": 4,
   "metadata": {
    "collapsed": false
   },
   "outputs": [],
   "source": [
    "TX2014=plans2014[plans2014[\"State\"]==\"TX\"]\n",
    "TX2015=plans2015[plans2015[\"State \"]==\"TX\"]\n",
    "TX2016=plans2016[plans2016[\"State Code\"]==\"TX\"]\n",
    "TX2017=plans2017[plans2017[\"State Code\"]==\"TX\"]"
   ]
  },
  {
   "cell_type": "code",
   "execution_count": 5,
   "metadata": {
    "collapsed": false
   },
   "outputs": [
    {
     "ename": "NameError",
     "evalue": "name 'insurers2014' is not defined",
     "output_type": "error",
     "traceback": [
      "\u001b[0;31m---------------------------------------------------------------------------\u001b[0m",
      "\u001b[0;31mNameError\u001b[0m                                 Traceback (most recent call last)",
      "\u001b[0;32m<ipython-input-5-9e2bdc6b4415>\u001b[0m in \u001b[0;36m<module>\u001b[0;34m()\u001b[0m\n\u001b[1;32m      8\u001b[0m \u001b[0mpresenceRatio\u001b[0m\u001b[1;33m=\u001b[0m\u001b[1;33m[\u001b[0m\u001b[1;33m]\u001b[0m\u001b[1;33m\u001b[0m\u001b[0m\n\u001b[1;32m      9\u001b[0m \u001b[1;32mfor\u001b[0m \u001b[0mi\u001b[0m \u001b[1;32min\u001b[0m \u001b[0mobjects\u001b[0m\u001b[1;33m:\u001b[0m\u001b[1;33m\u001b[0m\u001b[0m\n\u001b[0;32m---> 10\u001b[0;31m     \u001b[0mpresenceRatio\u001b[0m\u001b[1;33m.\u001b[0m\u001b[0mappend\u001b[0m\u001b[1;33m(\u001b[0m\u001b[0minsurers2014\u001b[0m\u001b[1;33m[\u001b[0m\u001b[0mi\u001b[0m\u001b[1;33m]\u001b[0m\u001b[1;33m.\u001b[0m\u001b[0mvalue_counts\u001b[0m\u001b[1;33m(\u001b[0m\u001b[1;33m)\u001b[0m\u001b[1;33m[\u001b[0m\u001b[1;36m1\u001b[0m\u001b[1;33m]\u001b[0m\u001b[1;33m)\u001b[0m\u001b[1;33m\u001b[0m\u001b[0m\n\u001b[0m\u001b[1;32m     11\u001b[0m \u001b[1;33m\u001b[0m\u001b[0m\n\u001b[1;32m     12\u001b[0m \u001b[0mplt\u001b[0m\u001b[1;33m.\u001b[0m\u001b[0mbarh\u001b[0m\u001b[1;33m(\u001b[0m\u001b[0my_pos\u001b[0m\u001b[1;33m,\u001b[0m \u001b[0mpresenceRatio\u001b[0m\u001b[1;33m,\u001b[0m \u001b[0malign\u001b[0m\u001b[1;33m=\u001b[0m\u001b[1;34m'center'\u001b[0m\u001b[1;33m,\u001b[0m \u001b[0malpha\u001b[0m\u001b[1;33m=\u001b[0m\u001b[1;36m0.5\u001b[0m\u001b[1;33m)\u001b[0m\u001b[1;33m\u001b[0m\u001b[0m\n",
      "\u001b[0;31mNameError\u001b[0m: name 'insurers2014' is not defined"
     ]
    }
   ],
   "source": [
    "objects = ('Aetna',\n",
    "       'Ambetter from Superior Health Plan', 'Blue Cross Blue Shield of Texas',\n",
    "       'Cigna Healthcare', 'Community Health Choice', 'CommunityFirst',\n",
    "       'FirstCare Health Plans', 'Humana Health Plan of Texas, Inc.',\n",
    "       'Humana Insurance Company', 'Molina Marketplace',\n",
    "       'Scott and White Health Plan', 'Sendero Health Plans')\n",
    "y_pos = np.arange(len(objects))\n",
    "presenceRatio=[]\n",
    "for i in objects:\n",
    "    presenceRatio.append(insurers2014[i].value_counts()[1])\n",
    " \n",
    "plt.barh(y_pos, presenceRatio, align='center', alpha=0.5)\n",
    "plt.yticks(y_pos, objects)\n",
    "plt.ylabel('Insurers')\n",
    "plt.xlabel(\"Number of Counties that Insurer is Present\")\n",
    "plt.title('Presence of Insurer in Counties of Texas 2014')\n",
    " \n",
    "plt.show()"
   ]
  },
  {
   "cell_type": "code",
   "execution_count": null,
   "metadata": {
    "collapsed": false
   },
   "outputs": [],
   "source": [
    "objects = ('Aetna',\n",
    "       'Allegian Choice', 'Ambetter from Superior Health Plan',\n",
    "       'Blue Cross and Blue Shield of Texas', 'Cigna Healthcare',\n",
    "       'Community Health Choice', 'CommunityFirst', 'FirstCare Health Plans',\n",
    "       'Humana, Inc.', 'Molina Marketplace', 'Scott and White Health Plan',\n",
    "       'Sendero Health Plans', 'UnitedHealthcare')\n",
    "y_pos = np.arange(len(objects))\n",
    "presenceRatio=[]\n",
    "for i in objects:\n",
    "    presenceRatio.append(insurers2015[i].value_counts()[1])\n",
    " \n",
    "plt.barh(y_pos, presenceRatio, align='center', alpha=0.5)\n",
    "plt.yticks(y_pos, objects)\n",
    "plt.ylabel('Insurers')\n",
    "plt.xlabel(\"Number of Counties that Insurer is Present\")\n",
    "plt.title('Presence of Insurer in Counties of Texas 2015')\n",
    " \n",
    "plt.show()"
   ]
  },
  {
   "cell_type": "code",
   "execution_count": null,
   "metadata": {
    "collapsed": false
   },
   "outputs": [],
   "source": [
    "objects = ('Aetna Life Insurance Company', 'All Savers Insurance Company',\n",
    "       'Allegian Insurance Company', 'Blue Cross Blue Shield of Texas',\n",
    "       'CHRISTUS Health Plan', 'Celtic Insurance Company',\n",
    "       'Cigna Health and Life Insurance Company',\n",
    "       'Cigna HealthCare of Texas, Inc.', 'Community First Health Plans, Inc.',\n",
    "       'Community Health Choice, Inc.', 'Humana Health Plan of Texas, Inc.',\n",
    "       'Humana Insurance Company', 'Insurance Company of Scott & White',\n",
    "       'Molina Healthcare of Texas', 'Oscar Insurance Company of Texas',\n",
    "       'Prominence HealthFirst of Texas, Inc.',\n",
    "       'SHA, LLC DBA FirstCare Health Plans', 'Scott and White Health Plan',\n",
    "       'Sendero Health Plans, inc.')\n",
    "y_pos = np.arange(len(objects))\n",
    "presenceRatio=[]\n",
    "for i in objects:\n",
    "    presenceRatio.append(insurers2016[i].value_counts()[1])\n",
    " \n",
    "plt.barh(y_pos, presenceRatio, align='center', alpha=0.5)\n",
    "plt.yticks(y_pos, objects)\n",
    "plt.ylabel('Insurers')\n",
    "plt.xlabel(\"Number of Counties that Insurer is Present\")\n",
    "plt.title('Presence of Insurer in Counties of Texas 2016')\n",
    " \n",
    "plt.show()"
   ]
  },
  {
   "cell_type": "code",
   "execution_count": null,
   "metadata": {
    "collapsed": false
   },
   "outputs": [],
   "source": [
    "objects = ('Blue Cross Blue Shield of Texas', 'CHRISTUS Health Plan',\n",
    "       'Celtic Insurance Company', 'Community Health Choice, Inc.',\n",
    "       'Humana Health Plan of Texas, Inc.', 'Molina Healthcare of Texas, Inc.',\n",
    "       'Oscar Insurance Company of Texas',\n",
    "       'Prominence HealthFirst of Texas, Inc.',\n",
    "       'SHA, LLC DBA FirstCare Health Plans', 'Sendero Health Plans, inc.')\n",
    "y_pos = np.arange(len(objects))\n",
    "presenceRatio=[]\n",
    "for i in objects:\n",
    "    presenceRatio.append(insurers2017[i].value_counts()[1])\n",
    " \n",
    "plt.barh(y_pos, presenceRatio, align='center', alpha=0.5)\n",
    "plt.yticks(y_pos, objects)\n",
    "plt.ylabel('Insurers')\n",
    "plt.xlabel(\"Number of Counties that Insurer is Present\")\n",
    "plt.title('Presence of Insurer in Counties of Texas 2017')\n",
    " \n",
    "plt.show()"
   ]
  },
  {
   "cell_type": "code",
   "execution_count": 6,
   "metadata": {
    "collapsed": false
   },
   "outputs": [],
   "source": [
    "TX2014.groupby(\"County\")[\"Issuer Name\"].value_counts().to_csv(\"TX2014Insurers.csv\")"
   ]
  },
  {
   "cell_type": "code",
   "execution_count": 7,
   "metadata": {
    "collapsed": false
   },
   "outputs": [],
   "source": [
    "TX2015.groupby(\"County\")[\"Issuer Name\"].value_counts().to_csv(\"TX2015Insurers.csv\")"
   ]
  },
  {
   "cell_type": "code",
   "execution_count": 8,
   "metadata": {
    "collapsed": false
   },
   "outputs": [],
   "source": [
    "TX2016.groupby(\"County Name\")[\"Issuer Name\"].value_counts().to_csv(\"TX2016Insurers.csv\")"
   ]
  },
  {
   "cell_type": "code",
   "execution_count": 9,
   "metadata": {
    "collapsed": false
   },
   "outputs": [],
   "source": [
    "TX2017.groupby(\"County Name\")[\"Issuer Name\"].value_counts().to_csv(\"TX2017Insurers.csv\")"
   ]
  },
  {
   "cell_type": "code",
   "execution_count": null,
   "metadata": {
    "collapsed": false
   },
   "outputs": [],
   "source": [
    "NumberInsurers2017=TX2017.groupby(\"County Name\")[\"Issuer Name\"].nunique().reset_index()\n",
    "NumberInsurers2016=TX2016.groupby(\"County Name\")[\"Issuer Name\"].nunique().reset_index()\n",
    "NumberInsurers2015=TX2015.groupby(\"County\")[\"Issuer Name\"].nunique().reset_index()\n",
    "NumberInsurers2014=TX2014.groupby(\"County\")[\"Issuer Name\"].nunique().reset_index()"
   ]
  },
  {
   "cell_type": "code",
   "execution_count": null,
   "metadata": {
    "collapsed": false
   },
   "outputs": [],
   "source": [
    "TX2017=TX2017.join(pd.get_dummies(TX2017[\"Issuer Name\"]))\n",
    "TX2016=TX2016.join(pd.get_dummies(TX2016[\"Issuer Name\"]))\n",
    "TX2015=TX2015.join(pd.get_dummies(TX2015[\"Issuer Name\"]))\n",
    "TX2014=TX2014.join(pd.get_dummies(TX2014[\"Issuer Name\"]))"
   ]
  },
  {
   "cell_type": "code",
   "execution_count": null,
   "metadata": {
    "collapsed": false
   },
   "outputs": [],
   "source": [
    "insurers2017=TX2017.groupby(\"County Name\").sum()\n",
    "insurers2016=TX2016.groupby(\"County Name\").sum()\n",
    "insurers2015=TX2015.groupby(\"County\").sum()\n",
    "insurers2014=TX2014.groupby(\"County\").sum()"
   ]
  },
  {
   "cell_type": "code",
   "execution_count": null,
   "metadata": {
    "collapsed": false
   },
   "outputs": [],
   "source": [
    "insurers2014[insurers2014!=0]=1\n",
    "insurers2015[insurers2015!=0]=1\n",
    "insurers2016[insurers2016!=0]=1\n",
    "insurers2017[insurers2017!=0]=1"
   ]
  },
  {
   "cell_type": "code",
   "execution_count": null,
   "metadata": {
    "collapsed": false
   },
   "outputs": [],
   "source": [
    "insurers2014=insurers2014.reset_index()\n",
    "insurers2015=insurers2015.reset_index()\n",
    "insurers2016=insurers2016.reset_index()\n",
    "insurers2017=insurers2017.reset_index()"
   ]
  },
  {
   "cell_type": "code",
   "execution_count": null,
   "metadata": {
    "collapsed": false
   },
   "outputs": [],
   "source": [
    "\n",
    "insurers2017=insurers2017[['County Name', 'Blue Cross Blue Shield of Texas', 'CHRISTUS Health Plan',\n",
    "       'Celtic Insurance Company', 'Community Health Choice, Inc.',\n",
    "       'Humana Health Plan of Texas, Inc.', 'Molina Healthcare of Texas, Inc.',\n",
    "       'Oscar Insurance Company of Texas',\n",
    "       'Prominence HealthFirst of Texas, Inc.',\n",
    "       'SHA, LLC DBA FirstCare Health Plans', 'Sendero Health Plans, inc.']]\n",
    "\n",
    "insurers2016=insurers2016[[\"County Name\", 'Aetna Life Insurance Company', 'All Savers Insurance Company',\n",
    "       'Allegian Insurance Company', 'Blue Cross Blue Shield of Texas',\n",
    "       'CHRISTUS Health Plan', 'Celtic Insurance Company',\n",
    "       'Cigna Health and Life Insurance Company',\n",
    "       'Cigna HealthCare of Texas, Inc.', 'Community First Health Plans, Inc.',\n",
    "       'Community Health Choice, Inc.', 'Humana Health Plan of Texas, Inc.',\n",
    "       'Humana Insurance Company', 'Insurance Company of Scott & White',\n",
    "       'Molina Healthcare of Texas', 'Oscar Insurance Company of Texas',\n",
    "       'Prominence HealthFirst of Texas, Inc.',\n",
    "       'SHA, LLC DBA FirstCare Health Plans', 'Scott and White Health Plan',\n",
    "       'Sendero Health Plans, inc.']]\n",
    "insurers2015=insurers2015[[\"County\", 'Aetna',\n",
    "       'Allegian Choice', 'Ambetter from Superior Health Plan',\n",
    "       'Blue Cross and Blue Shield of Texas', 'Cigna Healthcare',\n",
    "       'Community Health Choice', 'CommunityFirst', 'FirstCare Health Plans',\n",
    "       'Humana, Inc.', 'Molina Marketplace', 'Scott and White Health Plan',\n",
    "       'Sendero Health Plans', 'UnitedHealthcare']]\n",
    "insurers2014=insurers2014[[\"County\", 'Aetna',\n",
    "       'Ambetter from Superior Health Plan', 'Blue Cross Blue Shield of Texas',\n",
    "       'Cigna Healthcare', 'Community Health Choice', 'CommunityFirst',\n",
    "       'FirstCare Health Plans', 'Humana Health Plan of Texas, Inc.',\n",
    "       'Humana Insurance Company', 'Molina Marketplace',\n",
    "       'Scott and White Health Plan', 'Sendero Health Plans']]\n"
   ]
  },
  {
   "cell_type": "code",
   "execution_count": null,
   "metadata": {
    "collapsed": false
   },
   "outputs": [],
   "source": [
    "                                    for i in range(len(insurers2014[\"Aetna\"])):\n",
    "    \n",
    "    if(insurers2014[\"Aetna\"][i]!=insurers2016[\"Aetna Life Insurance Company\"][i]):\n",
    "        #print(\"There's a difference\")\n",
    "        print(insurers2014[\"County\"][i])\n",
    "        print(insurers2016[\"County Name\"][i])\n",
    "\n",
    "#Aetna was in the same counties from 2014-2016. 2017 they left baiiii"
   ]
  },
  {
   "cell_type": "code",
   "execution_count": null,
   "metadata": {
    "collapsed": false
   },
   "outputs": [],
   "source": [
    "print(\"Ambetter entered the following Counties in 2015: \")\n",
    "for i in range(len(insurers2014[\"Ambetter from Superior Health Plan\"])):\n",
    "    if(insurers2014[\"Ambetter from Superior Health Plan\"][i]!=insurers2015[\"Ambetter from Superior Health Plan\"][i]):\n",
    "        print(insurers2014[\"County\"][i])\n",
    "        \n",
    "#Afterwards Ambetter left"
   ]
  },
  {
   "cell_type": "code",
   "execution_count": null,
   "metadata": {
    "collapsed": false
   },
   "outputs": [],
   "source": [
    "for i in range(len(insurers2014[\"Cigna Healthcare\"])):\n",
    "    if(insurers2014[\"Cigna Healthcare\"][i]!=insurers2016[\"Cigna HealthCare of Texas, Inc.\"][i]):\n",
    "        print(insurers2014[\"County\"][i])\n",
    "#Cigna stayed in the same place 2014-2015\n",
    "\n"
   ]
  },
  {
   "cell_type": "code",
   "execution_count": null,
   "metadata": {
    "collapsed": false
   },
   "outputs": [],
   "source": [
    "for i in range(len(insurers2014[\"Community Health Choice\"])):\n",
    "    if(insurers2016[\"Community Health Choice, Inc.\"][i]!=insurers2017[\"Community Health Choice, Inc.\"][i]):\n",
    "        print(insurers2014[\"County\"][i])\n",
    "        \n",
    "#Community Health Choice remained in the same places in 2014-2015\n",
    "#Community Health Choice entered Liberty in 2016\n",
    "#Community Health Choice and stayed the same in 2017"
   ]
  },
  {
   "cell_type": "code",
   "execution_count": null,
   "metadata": {
    "collapsed": false
   },
   "outputs": [],
   "source": [
    "for i in range(len(insurers2014[\"CommunityFirst\"])):\n",
    "    if(insurers2014[\"CommunityFirst\"][i]!=insurers2016[\"Community First Health Plans, Inc.\"][i]):\n",
    "        print(insurers2014[\"County\"][i])\n",
    "        \n",
    "#Community First entered Atascosa and Medina in 2015 and remained in 2016\n",
    "#Then it peaced out in 2017"
   ]
  },
  {
   "cell_type": "code",
   "execution_count": null,
   "metadata": {
    "collapsed": false
   },
   "outputs": [],
   "source": [
    "for i in range(len(insurers2014[\"FirstCare Health Plans\"])):\n",
    "    if(insurers2014[\"FirstCare Health Plans\"][i]!=insurers2017[\"SHA, LLC DBA FirstCare Health Plans\"][i]):\n",
    "        print(insurers2014[\"County\"][i])\n",
    "        \n",
    "#First Care exited these counties from 2016 to 2017"
   ]
  },
  {
   "cell_type": "code",
   "execution_count": null,
   "metadata": {
    "collapsed": true
   },
   "outputs": [],
   "source": [
    "for i in range(len(insurers2014[\"Molina Marketplace\"])):\n",
    "    if(insurers2014[\"Molina Marketplace\"][i]!=insurers2017[\"Molina Healthcare of Texas, Inc.\"][i]):\n",
    "        print(insurers2014[\"County\"][i])\n",
    "        \n",
    "#No change all years"
   ]
  },
  {
   "cell_type": "code",
   "execution_count": null,
   "metadata": {
    "collapsed": false
   },
   "outputs": [],
   "source": [
    "print(\"Scott and White Health Plan entered the following counties in 2015\")\n",
    "for i in range(len(insurers2014[\"Scott and White Health Plan\"])):\n",
    "    if(insurers2014[\"Scott and White Health Plan\"][i]!=insurers2015[\"Scott and White Health Plan\"][i]):\n",
    "        print(insurers2014[\"County\"][i])\n",
    "        \n",
    "print(\"---------------------------------------\")\n",
    "\n",
    "for i in range(len(insurers2015[\"Scott and White Health Plan\"])):\n",
    "    if(insurers2015[\"Scott and White Health Plan\"][i]!=insurers2016[\"Insurance Company of Scott & White\"][i]):\n",
    "        print(insurers2015[\"County\"][i])\n",
    "        \n",
    "#Scott and White exited in 2017"
   ]
  },
  {
   "cell_type": "code",
   "execution_count": null,
   "metadata": {
    "collapsed": false
   },
   "outputs": [],
   "source": [
    "for i in range(len(insurers2014[\"Sendero Health Plans\"])):\n",
    "    if(insurers2016[\"Sendero Health Plans, inc.\"][i]!=insurers2017[\"Sendero Health Plans, inc.\"][i]):\n",
    "        print(insurers2014[\"County\"][i])\n",
    "\n",
    "#no change in 2014-2017"
   ]
  },
  {
   "cell_type": "code",
   "execution_count": null,
   "metadata": {
    "collapsed": false
   },
   "outputs": [],
   "source": [
    "print(\"Allegian Choice entered the following counties in 2015\")\n",
    "for i in range(len(insurers2015[\"Allegian Choice\"])):\n",
    "    if(insurers2015[\"Allegian Choice\"][i]==1):\n",
    "        print(insurers2015[\"County\"][i])\n",
    "        k.append(insurers2015[\"County\"][i])\n",
    "\n",
    "print(\"-----------------------------------------------\")\n",
    "print(\"Allegian Choice entered the following county in 2016\")\n",
    "for i in range(len(insurers2015[\"Allegian Choice\"])):\n",
    "    if(insurers2015[\"Allegian Choice\"][i]!=insurers2016[\"Allegian Insurance Company\"][i]):\n",
    "        print(insurers2015[\"County\"][i])\n",
    "        "
   ]
  },
  {
   "cell_type": "code",
   "execution_count": null,
   "metadata": {
    "collapsed": false
   },
   "outputs": [],
   "source": [
    "print(\"United Entered these counties in 2015\")\n",
    "for i in range(len(insurers2015[\"UnitedHealthcare\"])):\n",
    "    if(insurers2015[\"UnitedHealthcare\"][i]==1):\n",
    "        print(insurers2015[\"County\"][i])\n",
    "        k.append(insurers2015[\"County\"][i])\n",
    "        "
   ]
  },
  {
   "cell_type": "code",
   "execution_count": null,
   "metadata": {
    "collapsed": false
   },
   "outputs": [],
   "source": [
    "k=[]\n",
    "print(\"All Savers Insurance Company entered these counties in 2016\")\n",
    "for i in range(len(insurers2016[\"All Savers Insurance Company\"])):\n",
    "    if(insurers2016[\"All Savers Insurance Company\"][i]==1):\n",
    "        print(insurers2015[\"County\"][i])\n",
    "        k.append(insurers2015[\"County\"][i])"
   ]
  },
  {
   "cell_type": "code",
   "execution_count": null,
   "metadata": {
    "collapsed": false
   },
   "outputs": [],
   "source": [
    "print(\"CHRISTUS entered the following counties in 2016\")\n",
    "for i in range(len(insurers2016[\"CHRISTUS Health Plan\"])):\n",
    "    if(insurers2016[\"CHRISTUS Health Plan\"][i]==1):\n",
    "        print(insurers2015[\"County\"][i])\n",
    "        k.append(insurers2015[\"County\"][i])\n",
    "print(\"-----------------------------\")\n",
    "print(\"CHRISTUS entered the following counties in 2017\")\n",
    "for i in range(len(insurers2016[\"CHRISTUS Health Plan\"])):\n",
    "    if(insurers2016[\"CHRISTUS Health Plan\"][i]!=insurers2017[\"CHRISTUS Health Plan\"][i]):\n",
    "      print(insurers2015[\"County\"][i])\n",
    "    "
   ]
  },
  {
   "cell_type": "code",
   "execution_count": null,
   "metadata": {
    "collapsed": false
   },
   "outputs": [],
   "source": [
    "print(\"Celtic Insurance Company entered the following counties in 2016\")\n",
    "for i in range(len(insurers2016[\"Celtic Insurance Company\"])):\n",
    "    if(insurers2016[\"Celtic Insurance Company\"][i]==1):\n",
    "        print(insurers2015[\"County\"][i])\n",
    "        k.append(insurers2015[\"County\"][i])\n",
    "    \n",
    "print(\"------------------------------------------------\")\n",
    "print(\"Celtic Insurance Company entered the following counties in 2017\")\n",
    "for i in range(len(insurers2016[\"CHRISTUS Health Plan\"])):\n",
    "    if(insurers2016[\"Celtic Insurance Company\"][i]!=insurers2017[\"Celtic Insurance Company\"][i]):\n",
    "     print(insurers2015[\"County\"][i])"
   ]
  },
  {
   "cell_type": "code",
   "execution_count": null,
   "metadata": {
    "collapsed": false
   },
   "outputs": [],
   "source": [
    "print(\"Oscar entered the following counties in 2017\")\n",
    "for i in range(len(insurers2016[\"Oscar Insurance Company of Texas\"])):\n",
    "    if(insurers2016[\"Oscar Insurance Company of Texas\"][i]==1):\n",
    "        print(insurers2015[\"County\"][i])\n",
    "        k.append(insurers2015[\"County\"][i])\n",
    "print(\"--------------\")\n",
    "print(\"Oscar exited the following counties in 2017\")\n",
    "for i in range(len(insurers2016[\"CHRISTUS Health Plan\"])):\n",
    "    if(insurers2016[\"Oscar Insurance Company of Texas\"][i]!=insurers2017[\"Oscar Insurance Company of Texas\"][i]):\n",
    "        print(insurers2015[\"County\"][i])"
   ]
  },
  {
   "cell_type": "code",
   "execution_count": null,
   "metadata": {
    "collapsed": false
   },
   "outputs": [],
   "source": [
    "for i in range(len(insurers2016[\"Prominence HealthFirst of Texas, Inc.\"])):\n",
    "    if(insurers2016[\"Prominence HealthFirst of Texas, Inc.\"][i]==1):\n",
    "        print(insurers2015[\"County\"][i])\n",
    "        k.append(insurers2015[\"County\"][i])\n",
    "        \n",
    "print(\"--------------\")\n",
    "\n",
    "for i in range(len(insurers2016[\"CHRISTUS Health Plan\"])):\n",
    "    if(insurers2016[\"Prominence HealthFirst of Texas, Inc.\"][i]!=insurers2017[\"Prominence HealthFirst of Texas, Inc.\"][i]):\n",
    "        print(insurers2015[\"County\"][i])"
   ]
  },
  {
   "cell_type": "code",
   "execution_count": null,
   "metadata": {
    "collapsed": false
   },
   "outputs": [],
   "source": [
    "k=list(set(k))"
   ]
  },
  {
   "cell_type": "code",
   "execution_count": null,
   "metadata": {
    "collapsed": false
   },
   "outputs": [],
   "source": [
    "s=pd.Series(k)\n",
    "s.to_csv(\"CountiesEnteredTX.csv\")"
   ]
  },
  {
   "cell_type": "code",
   "execution_count": null,
   "metadata": {
    "collapsed": false
   },
   "outputs": [],
   "source": [
    "insurers2016[\"Entered Counties\"]=0\n",
    "insurers2016.head()"
   ]
  },
  {
   "cell_type": "code",
   "execution_count": null,
   "metadata": {
    "collapsed": false
   },
   "outputs": [],
   "source": [
    "for i in range(len(insurers2016)):\n",
    "    if (insurers2016[\"County Name\"][i] in k):\n",
    "        insurers2016[\"Entered Counties\"][i]=1"
   ]
  },
  {
   "cell_type": "code",
   "execution_count": null,
   "metadata": {
    "collapsed": false
   },
   "outputs": [],
   "source": [
    "LogModelCounties=insurers2016[[\"County Name\", \"Entered Counties\"]]"
   ]
  },
  {
   "cell_type": "code",
   "execution_count": null,
   "metadata": {
    "collapsed": true
   },
   "outputs": [],
   "source": [
    "Edu = pd.read_csv(\"Texas Health Insurance/ACS_15_5YR_S1501_with_ann.csv\", skiprows=1)\n",
    "Uninsured=pd.read_csv(\"Texas Health Insurance/ACS_15_5YR_S2701_with_ann.csv\", skiprows=1)\n",
    "Pop = pd.read_csv(\"Texas Health Insurance/ACS_15_5YR_S0101_with_ann.csv\", skiprows=1)\n",
    "Employment = pd.read_csv(\"Texas Health Insurance/ACS_15_5YR_DP03_with_ann.csv\", skiprows=1)\n",
    "HealthRankings=pd.read_excel(\"Texas Health Insurance/2015 County Health Rankings Texas Data - v3.xls\", \"Ranked Measure Data\", skiprows=1)\n",
    "HealthRankings2=pd.read_excel(\"Texas Health Insurance/2015 County Health Rankings Texas Data - v3.xls\", \"Additional Measure Data\", skiprows=1)"
   ]
  },
  {
   "cell_type": "code",
   "execution_count": null,
   "metadata": {
    "collapsed": true
   },
   "outputs": [],
   "source": [
    "hospitals=pd.read_csv(\"tabula-hosplis2016.csv\")"
   ]
  },
  {
   "cell_type": "code",
   "execution_count": null,
   "metadata": {
    "collapsed": true
   },
   "outputs": [],
   "source": [
    "hospitals=hospitals[[\"Facility\", \"County\", \"Beds\", \"Beds.1\", \"Ownership\"]]\n",
    "hospitals=hospitals.rename(columns={\"Beds.1\":\"Psychiatric Beds\"})"
   ]
  },
  {
   "cell_type": "code",
   "execution_count": null,
   "metadata": {
    "collapsed": true
   },
   "outputs": [],
   "source": [
    "hospitals[\"County\"]\n",
    "x=[]\n",
    "for i in hospitals[\"County\"]:\n",
    "    x.append(i)\n",
    "\n",
    "d=[]\n",
    "for j in x:\n",
    "    d.append(re.sub(r'\\d+', '', j))\n",
    "\n",
    "#uppercase\n",
    "r=[]\n",
    "for l in d:\n",
    "    r.append(re.sub('[^A-Z]', '', l))\n",
    "\n",
    "#alphanumeric\n",
    "s=[]\n",
    "for k in r:\n",
    "    s.append(re.sub(r'[^\\w]', '', k))\n",
    "f=[]\n",
    "for p in s:\n",
    "    f.append(p.title())\n",
    "\n",
    "hospitals[\"Counties\"]=pd.Series(f)"
   ]
  },
  {
   "cell_type": "code",
   "execution_count": null,
   "metadata": {
    "collapsed": true
   },
   "outputs": [],
   "source": [
    "hospitals=hospitals.replace(\"Jimwells\", \"Jim Wells\")\n",
    "hospitals=hospitals.replace(\"Elpaso\", \"El Paso\")\n",
    "hospitals=hospitals.replace(\"Sanpatricio\", \"San Patricio\")\n",
    "hospitals=hospitals.replace(\"Dewitt\", \"DeWitt\")\n",
    "hospitals=hospitals.replace(\"Valverde\", \"Val Verde\")\n",
    "hospitals=hospitals.replace(\"Vanzandt\", \"Van Zandt\")\n",
    "hospitals=hospitals.replace(\"Tomgreen\", \"Tom Green\")\n",
    "hospitals=hospitals.replace(\"Throckmort\", \"Throckmorton\")\n",
    "hospitals=hospitals.replace(\"Sanaugustine\", \"San Augustine\")\n",
    "hospitals=hospitals.replace(\"Nbharris\", \"Harris\")\n",
    "hospitals=hospitals.replace(\"Ngrimes\", \"Grimes\")\n",
    "hospitals=hospitals.replace(\"Mcculloch\", \"McCulloch\")\n",
    "hospitals=hospitals.replace(\"Mclennan\", \"McLennan\")\n",
    "hospitals=hospitals.replace(\"Palopinto\", \"Palo Pinto\")\n",
    "hospitals=hospitals.replace(\"Nacogdoche\", \"Nacogdoches\")\n",
    "hospitals=hospitals.replace(\"Fortbend\", \"Fort Bend\")\n",
    "hospitals=hospitals.replace(\"Deafsmith\", \"Deaf Smith\")\n",
    "\n",
    "\n",
    "UniqueFacilities=hospitals.groupby(\"Counties\")[\"Facility\"].nunique().reset_index()\n",
    "\n",
    "Beds=hospitals.groupby(\"Counties\")[\"Beds\"].sum().reset_index()"
   ]
  },
  {
   "cell_type": "code",
   "execution_count": null,
   "metadata": {
    "collapsed": true
   },
   "outputs": [],
   "source": [
    "x=[]\n",
    "for i, row in Edu[\"Geography\"].iteritems():\n",
    "    x.append(row.strip().split(\",\")[0].rsplit(\" \", 1)[0])\n",
    "    \n",
    "Edu[\"County\"]=pd.Series(x)\n",
    "Edu=Edu[[\"County\", \"Total; Estimate; MEDIAN EARNINGS IN THE PAST 12 MONTHS (IN 2015 INFLATION-ADJUSTED DOLLARS) - Population 25 years and over with earnings\", \"Percent; Estimate; Population 25 years and over - Less than 9th grade\", \"Percent; Estimate; Population 25 years and over - 9th to 12th grade, no diploma\", \"Percent; Estimate; Population 25 years and over - High school graduate (includes equivalency)\", \"Percent; Estimate; Population 25 years and over - Some college, no degree\", \"Percent; Estimate; Population 25 years and over - Associate's degree\", \"Percent; Estimate; Population 25 years and over - Bachelor's degree\", \"Percent; Estimate; Population 25 years and over - Graduate or professional degree\", \"Percent; Estimate; Percent high school graduate or higher\", \"Total; Estimate; Population 65 years and over\"]]"
   ]
  },
  {
   "cell_type": "code",
   "execution_count": null,
   "metadata": {
    "collapsed": true
   },
   "outputs": [],
   "source": [
    "y=[]\n",
    "for i, row in Uninsured[\"Geography\"].iteritems():\n",
    "    y.append(row.strip().split(\",\")[0].rsplit(\" \", 1)[0])\n",
    "    \n",
    "Uninsured[\"County\"]=pd.Series(y)\n",
    "Uninsured=Uninsured[[\"County\", \"Percent Uninsured; Estimate; Civilian noninstitutionalized population\", \"Percent Insured; Estimate; Civilian noninstitutionalized population\", \"Total; Estimate; AGE - 18 to 64 years\", \"Percent Insured; Estimate; AGE - 18 to 64 years\", \"Percent Uninsured; Estimate; AGE - 18 to 64 years\"]]"
   ]
  },
  {
   "cell_type": "code",
   "execution_count": null,
   "metadata": {
    "collapsed": true
   },
   "outputs": [],
   "source": [
    "z=[]\n",
    "for i, row in Employment[\"Geography\"].iteritems():\n",
    "    z.append(row.strip().split(\",\")[0].rsplit(\" \", 1)[0])\n",
    "    \n",
    "Employment[\"County\"]=pd.Series(z)\n",
    "Employment=Employment[[\"County\", \"Percent; EMPLOYMENT STATUS - Population 16 years and over - In labor force\", \"Percent; EMPLOYMENT STATUS - Population 16 years and over - In labor force - Civilian labor force - Employed\", \"Percent; EMPLOYMENT STATUS - Civilian labor force - Unemployment Rate\", \"Estimate; INCOME AND BENEFITS (IN 2015 INFLATION-ADJUSTED DOLLARS) - Total households\", \"Estimate; INCOME AND BENEFITS (IN 2015 INFLATION-ADJUSTED DOLLARS) - Total households - Median household income (dollars)\", \"Estimate; INCOME AND BENEFITS (IN 2015 INFLATION-ADJUSTED DOLLARS) - Per capita income (dollars)\"]]"
   ]
  },
  {
   "cell_type": "code",
   "execution_count": null,
   "metadata": {
    "collapsed": true
   },
   "outputs": [],
   "source": [
    "HealthRankings=HealthRankings[[\"County\", \"% Obese\", \"Food Environment Index\", \"% Physically Inactive\", \"% Uninsured\", \"Income Ratio\", \"Average Daily PM2.5\", \"% Severe Housing Problems\"]]\n",
    "HealthRankings2=HealthRankings2[[\"County\", \"% Hispanic\", \"% African American\", \"% Rural\", \"% Diabetic\", \"HIV Prevalence Rate\", \"Age-Adjusted Mortality\", \"% Food Insecure\", \"Costs\"]]"
   ]
  },
  {
   "cell_type": "code",
   "execution_count": null,
   "metadata": {
    "collapsed": true
   },
   "outputs": [],
   "source": [
    "LogModelCounties=LogModelCounties.replace(\"De Witt\", \"DeWitt\")\n",
    "LogModelCounties=LogModelCounties.replace(\"Mcculloch\", \"McCulloch\")\n",
    "LogModelCounties=LogModelCounties.replace(\"Mclennan\", \"McLennan\")\n",
    "LogModelCounties=LogModelCounties.replace(\"Mcmullen\", \"McMullen\")"
   ]
  },
  {
   "cell_type": "code",
   "execution_count": null,
   "metadata": {
    "collapsed": false
   },
   "outputs": [],
   "source": [
    "TX2015[\"Premium Adult Individual Age 27\"]=TX2015[\"Premium Adult Individual Age 27\"].astype(str).astype(float)"
   ]
  },
  {
   "cell_type": "code",
   "execution_count": null,
   "metadata": {
    "collapsed": false
   },
   "outputs": [],
   "source": [
    "avgPremiums=TX2015.groupby(\"County\")[\"Premium Adult Individual Age 27\"].mean().reset_index()"
   ]
  },
  {
   "cell_type": "code",
   "execution_count": null,
   "metadata": {
    "collapsed": true
   },
   "outputs": [],
   "source": [
    "TX2015[\"Medical Deductible-individual-standard\"]=TX2015[\"Medical Deductible-individual-standard\"].str.replace(\",\", \"\")\n",
    "TX2015[\"Medical Deductible-individual-standard\"]=TX2015[\"Medical Deductible-individual-standard\"].str.replace(\"$\", \"\")\n",
    "TX2015[\"Medical Deductible-individual-standard\"]=TX2015[\"Medical Deductible-individual-standard\"].astype(int)\n"
   ]
  },
  {
   "cell_type": "code",
   "execution_count": null,
   "metadata": {
    "collapsed": false
   },
   "outputs": [],
   "source": [
    "avgDeductible=TX2015.groupby(\"County\")['Medical Deductible-individual-standard'].mean().reset_index()"
   ]
  },
  {
   "cell_type": "code",
   "execution_count": null,
   "metadata": {
    "collapsed": true
   },
   "outputs": [],
   "source": [
    "numberInsurers2015=TX2015.groupby(\"County\")[\"Issuer Name\"].nunique().reset_index()"
   ]
  },
  {
   "cell_type": "code",
   "execution_count": null,
   "metadata": {
    "collapsed": true
   },
   "outputs": [],
   "source": [
    "avgPremiums=avgPremiums.replace(\"De Witt\", \"DeWitt\")\n",
    "avgPremiums=avgPremiums.replace(\"Mcculloch\", \"McCulloch\")\n",
    "avgPremiums=avgPremiums.replace(\"Mclennan\", \"McLennan\")\n",
    "avgPremiums=avgPremiums.replace(\"Mcmullen\", \"McMullen\")"
   ]
  },
  {
   "cell_type": "code",
   "execution_count": null,
   "metadata": {
    "collapsed": true
   },
   "outputs": [],
   "source": [
    "avgDeductible=avgDeductible.replace(\"De Witt\", \"DeWitt\")\n",
    "avgDeductible=avgDeductible.replace(\"Mcculloch\", \"McCulloch\")\n",
    "avgDeductible=avgDeductible.replace(\"Mclennan\", \"McLennan\")\n",
    "avgDeductible=avgDeductible.replace(\"Mcmullen\", \"McMullen\")"
   ]
  },
  {
   "cell_type": "code",
   "execution_count": null,
   "metadata": {
    "collapsed": false
   },
   "outputs": [],
   "source": [
    "NumberInsurers2015=NumberInsurers2015.replace(\"De Witt\", \"DeWitt\")\n",
    "NumberInsurers2015=NumberInsurers2015.replace(\"Mcculloch\", \"McCulloch\")\n",
    "NumberInsurers2015=NumberInsurers2015.replace(\"Mclennan\", \"McLennan\")\n",
    "NumberInsurers2015=NumberInsurers2015.replace(\"Mcmullen\", \"McMullen\")"
   ]
  },
  {
   "cell_type": "code",
   "execution_count": null,
   "metadata": {
    "collapsed": false
   },
   "outputs": [],
   "source": [
    "LogModelCounties=pd.merge(LogModelCounties, Edu, left_on=\"County Name\", right_on=\"County\")\n",
    "LogModelCounties=pd.merge(LogModelCounties, Uninsured)\n",
    "LogModelCounties=pd.merge(LogModelCounties, Employment)\n",
    "LogModelCounties=pd.merge(LogModelCounties, HealthRankings)\n",
    "LogModelCounties=pd.merge(LogModelCounties, HealthRankings2)\n",
    "LogModelCounties=pd.merge(LogModelCounties, avgPremiums)\n",
    "LogModelCounties=pd.merge(LogModelCounties, NumberInsurers2015)"
   ]
  },
  {
   "cell_type": "code",
   "execution_count": null,
   "metadata": {
    "collapsed": false
   },
   "outputs": [],
   "source": [
    "Beds=Beds.fillna(0)\n",
    "UniqueFacilities=UniqueFacilities.fillna(0)"
   ]
  },
  {
   "cell_type": "code",
   "execution_count": null,
   "metadata": {
    "collapsed": false
   },
   "outputs": [],
   "source": [
    "LogModelCounties=pd.merge(LogModelCounties, UniqueFacilities, left_on=\"County Name\", right_on=\"Counties\", how=\"outer\")\n",
    "LogModelCounties=pd.merge(LogModelCounties, Beds, left_on=\"County Name\", right_on=\"Counties\", how=\"outer\")"
   ]
  },
  {
   "cell_type": "code",
   "execution_count": null,
   "metadata": {
    "collapsed": true
   },
   "outputs": [],
   "source": [
    "LogModelCounties=pd.merge(LogModelCounties, avgDeductible)"
   ]
  },
  {
   "cell_type": "code",
   "execution_count": null,
   "metadata": {
    "collapsed": false
   },
   "outputs": [],
   "source": [
    "TXOE2015=openEnrollment2015[openEnrollment2015[\"State\"]==\"TX\"]\n",
    "TXOE2015[\"County\"]=\"\"\n",
    "for i in range(2031, 2285):\n",
    "    TXOE2015[\"County\"][i]=TXOE2015[\"County Name\"][i].rsplit(\" \", 1)[0]\n",
    "\n"
   ]
  },
  {
   "cell_type": "code",
   "execution_count": null,
   "metadata": {
    "collapsed": false
   },
   "outputs": [],
   "source": [
    "LogModelCounties=pd.merge(LogModelCounties, TXOE2015, left_on=\"County Name\", right_on=\"County\")"
   ]
  },
  {
   "cell_type": "code",
   "execution_count": null,
   "metadata": {
    "collapsed": false
   },
   "outputs": [],
   "source": [
    "LogModelCounties=LogModelCounties.replace(\"*\", 0)"
   ]
  },
  {
   "cell_type": "code",
   "execution_count": null,
   "metadata": {
    "collapsed": false
   },
   "outputs": [],
   "source": [
    "LogModelCounties=LogModelCounties.fillna(0)"
   ]
  },
  {
   "cell_type": "code",
   "execution_count": null,
   "metadata": {
    "collapsed": false
   },
   "outputs": [],
   "source": [
    "LogModelCounties.columns"
   ]
  },
  {
   "cell_type": "code",
   "execution_count": null,
   "metadata": {
    "collapsed": true
   },
   "outputs": [],
   "source": [
    "LogModelCounties[\"intercept\"]=1.0"
   ]
  },
  {
   "cell_type": "code",
   "execution_count": null,
   "metadata": {
    "collapsed": false
   },
   "outputs": [],
   "source": [
    "LogModelCounties[\"Total; Estimate; AGE - 18 to 64 years\"]=LogModelCounties[\"Total; Estimate; AGE - 18 to 64 years\"].divide(1000)\n",
    "LogModelCounties[\"Premium Adult Individual Age 27\"]=LogModelCounties[\"Premium Adult Individual Age 27\"].divide(100)\n",
    "LogModelCounties[\"Costs\"]=LogModelCounties[\"Costs\"].divide(1000)\n",
    "LogModelCounties[\"Medical Deductible-individual-standard\"]=LogModelCounties[\"Medical Deductible-individual-standard\"].divide(100)"
   ]
  },
  {
   "cell_type": "code",
   "execution_count": null,
   "metadata": {
    "collapsed": true
   },
   "outputs": [],
   "source": [
    "LogModelCounties[\"Beds\"]=LogModelCounties[\"Beds\"].divide(100)"
   ]
  },
  {
   "cell_type": "code",
   "execution_count": null,
   "metadata": {
    "collapsed": false
   },
   "outputs": [],
   "source": [
    "model=LogisticRegression(fit_intercept=True)\n",
    "CountiesX=LogModelCounties[['% Uninsured', 'Beds',  \"Percent; Estimate; Population 25 years and over - Bachelor's degree\", \"Active Re-enrollees\", \"Premium Adult Individual Age 27\", \"Issuer Name\", \"Costs\", 'Percent; EMPLOYMENT STATUS - Civilian labor force - Unemployment Rate', 'Medical Deductible-individual-standard',  \"% Severe Housing Problems\", \"% African American\" ]]\n",
    "model=model.fit(CountiesX, LogModelCounties[\"Entered Counties\"])\n",
    "model.score(CountiesX, LogModelCounties[\"Entered Counties\"])"
   ]
  },
  {
   "cell_type": "code",
   "execution_count": null,
   "metadata": {
    "collapsed": false
   },
   "outputs": [],
   "source": [
    "model.coef_"
   ]
  },
  {
   "cell_type": "code",
   "execution_count": null,
   "metadata": {
    "collapsed": false
   },
   "outputs": [],
   "source": [
    "CountiesX=sm.add_constant(CountiesX)\n",
    "logit=sm.Logit(LogModelCounties[\"Entered Counties\"], CountiesX)\n",
    "\n",
    "result=logit.fit()"
   ]
  },
  {
   "cell_type": "code",
   "execution_count": null,
   "metadata": {
    "collapsed": false
   },
   "outputs": [],
   "source": [
    "result.summary()"
   ]
  },
  {
   "cell_type": "code",
   "execution_count": null,
   "metadata": {
    "collapsed": false
   },
   "outputs": [],
   "source": [
    "probit=sm.Probit(LogModelCounties[\"Entered Counties\"], CountiesX)\n",
    "result=probit.fit()"
   ]
  },
  {
   "cell_type": "code",
   "execution_count": null,
   "metadata": {
    "collapsed": false
   },
   "outputs": [],
   "source": [
    "result.summary()"
   ]
  },
  {
   "cell_type": "code",
   "execution_count": null,
   "metadata": {
    "collapsed": false
   },
   "outputs": [],
   "source": [
    "counter=0\n",
    "for i in range(len(LogModelCounties[\"Entered Counties\"])):\n",
    "    \n",
    "    if LogModelCounties[\"Entered Counties\"][i]==1:\n",
    "        #print(LogModelCounties[\"County_x\"][i])\n",
    "        counter=counter+1\n",
    "print(counter)"
   ]
  },
  {
   "cell_type": "code",
   "execution_count": null,
   "metadata": {
    "collapsed": false
   },
   "outputs": [],
   "source": [
    "corrmatPlans = LogModelCounties.corr()\n",
    "f, ax = plt.subplots(figsize=(12, 9))\n",
    "sns.heatmap(corrmatPlans, vmax=.8, square=True);"
   ]
  },
  {
   "cell_type": "code",
   "execution_count": null,
   "metadata": {
    "collapsed": false
   },
   "outputs": [],
   "source": [
    "k = 15 #number of variables for heatmap\n",
    "cols = corrmatPlans.nlargest(k, 'Entered Counties')['Entered Counties'].index\n",
    "cm = np.corrcoef(LogModelCounties[cols].values.T)\n",
    "sns.set(font_scale=1.25)\n",
    "hm = sns.heatmap(cm, cbar=True, annot=True, square=True, fmt='.2f', annot_kws={'size': 10}, yticklabels=cols.values, xticklabels=cols.values)\n",
    "plt.show()"
   ]
  },
  {
   "cell_type": "code",
   "execution_count": null,
   "metadata": {
    "collapsed": true
   },
   "outputs": [],
   "source": []
  },
  {
   "cell_type": "code",
   "execution_count": null,
   "metadata": {
    "collapsed": true
   },
   "outputs": [],
   "source": [
    "LogModelCounties[\"Insurers\"]=0"
   ]
  },
  {
   "cell_type": "code",
   "execution_count": null,
   "metadata": {
    "collapsed": false
   },
   "outputs": [],
   "source": [
    "counter=0\n",
    "for i in range(len(LogModelCounties[\"Insurers\"])):\n",
    "    if LogModelCounties[\"Issuer Name\"][i]>2:\n",
    "        LogModelCounties[\"Insurers\"][i]=1\n",
    "        counter=counter+1\n",
    "print(counter)"
   ]
  },
  {
   "cell_type": "code",
   "execution_count": null,
   "metadata": {
    "collapsed": false
   },
   "outputs": [],
   "source": [
    "model=LogisticRegression(fit_intercept=True)\n",
    "CountiesX=LogModelCounties[[\"% Rural\", \"% Uninsured\", \"Average Daily PM2.5\", 'Percent Insured; Estimate; AGE - 18 to 64 years', 'Estimate; INCOME AND BENEFITS (IN 2015 INFLATION-ADJUSTED DOLLARS) - Per capita income (dollars)', \"Automatic Re-enrollees\", \"Beds\", \"Premium Adult Individual Age 27\", \"Costs\", \"intercept\"]]\n",
    "model=model.fit(CountiesX, LogModelCounties[\"Insurers\"])\n",
    "model.score(CountiesX, LogModelCounties[\"Insurers\"])"
   ]
  },
  {
   "cell_type": "code",
   "execution_count": null,
   "metadata": {
    "collapsed": false
   },
   "outputs": [],
   "source": [
    "model.coef_"
   ]
  },
  {
   "cell_type": "code",
   "execution_count": null,
   "metadata": {
    "collapsed": false
   },
   "outputs": [],
   "source": [
    "logit=sm.Logit(LogModelCounties[\"Insurers\"], CountiesX)\n",
    "result=logit.fit()\n",
    "#LogModelCounties[\"Insurers\"]"
   ]
  },
  {
   "cell_type": "code",
   "execution_count": null,
   "metadata": {
    "collapsed": false
   },
   "outputs": [],
   "source": [
    "result.summary()"
   ]
  },
  {
   "cell_type": "code",
   "execution_count": null,
   "metadata": {
    "collapsed": true
   },
   "outputs": [],
   "source": [
    "Entered=LogModelCounties[LogModelCounties[\"Entered Counties\"]==1]\n",
    "NotEntered=LogModelCounties[LogModelCounties[\"Entered Counties\"]==0]"
   ]
  },
  {
   "cell_type": "code",
   "execution_count": null,
   "metadata": {
    "collapsed": false
   },
   "outputs": [],
   "source": [
    "scipy.stats.ttest_ind(Entered[\"Costs\"], NotEntered[\"Costs\"])"
   ]
  },
  {
   "cell_type": "code",
   "execution_count": null,
   "metadata": {
    "collapsed": false
   },
   "outputs": [],
   "source": [
    "t=[]\n",
    "p=[]\n",
    "for i in Entered[[\n",
    "       'Percent; Estimate; Population 25 years and over - Less than 9th grade',\n",
    "       'Percent; Estimate; Population 25 years and over - 9th to 12th grade, no diploma',\n",
    "       'Percent; Estimate; Population 25 years and over - High school graduate (includes equivalency)',\n",
    "       'Percent; Estimate; Population 25 years and over - Some college, no degree',\n",
    "       \"Percent; Estimate; Population 25 years and over - Associate's degree\",\n",
    "       \"Percent; Estimate; Population 25 years and over - Bachelor's degree\",\n",
    "       'Percent; Estimate; Population 25 years and over - Graduate or professional degree',\n",
    "       'Percent; Estimate; Percent high school graduate or higher',\n",
    "       'Total; Estimate; Population 65 years and over',\n",
    "       'Percent Uninsured; Estimate; Civilian noninstitutionalized population',\n",
    "       'Percent Insured; Estimate; Civilian noninstitutionalized population',\n",
    "       'Total; Estimate; AGE - 18 to 64 years',\n",
    "       'Percent Insured; Estimate; AGE - 18 to 64 years',\n",
    "       'Percent Uninsured; Estimate; AGE - 18 to 64 years',\n",
    "       'Percent; EMPLOYMENT STATUS - Population 16 years and over - In labor force',\n",
    "       'Percent; EMPLOYMENT STATUS - Population 16 years and over - In labor force - Civilian labor force - Employed',\n",
    "       'Percent; EMPLOYMENT STATUS - Civilian labor force - Unemployment Rate',\n",
    "       'Estimate; INCOME AND BENEFITS (IN 2015 INFLATION-ADJUSTED DOLLARS) - Total households',\n",
    "       'Estimate; INCOME AND BENEFITS (IN 2015 INFLATION-ADJUSTED DOLLARS) - Per capita income (dollars)',\n",
    "       '% Obese', 'Food Environment Index', '% Physically Inactive',\n",
    "       '% Uninsured', 'Income Ratio', 'Average Daily PM2.5',\n",
    "       '% Severe Housing Problems', '% Hispanic', '% African American',\n",
    "       '% Rural', '% Diabetic', 'HIV Prevalence Rate',\n",
    "       'Age-Adjusted Mortality', '% Food Insecure', 'Costs',\n",
    "       'Premium Adult Individual Age 27', 'Issuer Name', \"Facility\", \"Beds\", 'Total Number of Consumers Who Have Selected a Marketplace Plan',\n",
    "       'New Consumers', 'Active Re-enrollees', 'Automatic Re-enrollees']].columns:\n",
    "    tstat, pval=scipy.stats.ttest_ind(Entered[i], NotEntered[i])\n",
    "    t.append(tstat)\n",
    "    p.append(pval)"
   ]
  },
  {
   "cell_type": "code",
   "execution_count": null,
   "metadata": {
    "collapsed": false
   },
   "outputs": [],
   "source": [
    "t=pd.Series(t)\n",
    "p=pd.Series(p)\n",
    "pvals=pd.concat([t, p], axis=1)"
   ]
  },
  {
   "cell_type": "code",
   "execution_count": null,
   "metadata": {
    "collapsed": false
   },
   "outputs": [],
   "source": [
    "entered=[]\n",
    "notEntered=[]\n",
    "for i in Entered[[\n",
    "       'Percent; Estimate; Population 25 years and over - Less than 9th grade',\n",
    "       'Percent; Estimate; Population 25 years and over - 9th to 12th grade, no diploma',\n",
    "       'Percent; Estimate; Population 25 years and over - High school graduate (includes equivalency)',\n",
    "       'Percent; Estimate; Population 25 years and over - Some college, no degree',\n",
    "       \"Percent; Estimate; Population 25 years and over - Associate's degree\",\n",
    "       \"Percent; Estimate; Population 25 years and over - Bachelor's degree\",\n",
    "       'Percent; Estimate; Population 25 years and over - Graduate or professional degree',\n",
    "       'Percent; Estimate; Percent high school graduate or higher',\n",
    "       'Total; Estimate; Population 65 years and over',\n",
    "       'Percent Uninsured; Estimate; Civilian noninstitutionalized population',\n",
    "       'Percent Insured; Estimate; Civilian noninstitutionalized population',\n",
    "       'Total; Estimate; AGE - 18 to 64 years',\n",
    "       'Percent Insured; Estimate; AGE - 18 to 64 years',\n",
    "       'Percent Uninsured; Estimate; AGE - 18 to 64 years',\n",
    "       'Percent; EMPLOYMENT STATUS - Population 16 years and over - In labor force',\n",
    "       'Percent; EMPLOYMENT STATUS - Population 16 years and over - In labor force - Civilian labor force - Employed',\n",
    "       'Percent; EMPLOYMENT STATUS - Civilian labor force - Unemployment Rate',\n",
    "       'Estimate; INCOME AND BENEFITS (IN 2015 INFLATION-ADJUSTED DOLLARS) - Total households',\n",
    "       'Estimate; INCOME AND BENEFITS (IN 2015 INFLATION-ADJUSTED DOLLARS) - Per capita income (dollars)',\n",
    "       '% Obese', 'Food Environment Index', '% Physically Inactive',\n",
    "       '% Uninsured', 'Income Ratio', 'Average Daily PM2.5',\n",
    "       '% Severe Housing Problems', '% Hispanic', '% African American',\n",
    "       '% Rural', '% Diabetic', 'HIV Prevalence Rate',\n",
    "       'Age-Adjusted Mortality', '% Food Insecure', 'Costs',\n",
    "       'Premium Adult Individual Age 27', 'Issuer Name', \"Facility\", \"Beds\", 'Total Number of Consumers Who Have Selected a Marketplace Plan',\n",
    "       'New Consumers', 'Active Re-enrollees', 'Automatic Re-enrollees']].columns:\n",
    "   \n",
    "    entered.append(np.mean(Entered[i]))\n",
    "    notEntered.append(np.mean(NotEntered[i]))\n",
    "   "
   ]
  },
  {
   "cell_type": "code",
   "execution_count": null,
   "metadata": {
    "collapsed": false
   },
   "outputs": [],
   "source": [
    "entered=pd.Series(entered)\n",
    "notEntered=pd.Series(notEntered)\n"
   ]
  },
  {
   "cell_type": "code",
   "execution_count": null,
   "metadata": {
    "collapsed": false
   },
   "outputs": [],
   "source": [
    "together=pd.concat([entered,notEntered], axis=1)"
   ]
  },
  {
   "cell_type": "code",
   "execution_count": null,
   "metadata": {
    "collapsed": false
   },
   "outputs": [],
   "source": [
    "pvals=pd.merge(pvals, together, left_index=True, right_index=True)"
   ]
  },
  {
   "cell_type": "code",
   "execution_count": null,
   "metadata": {
    "collapsed": false
   },
   "outputs": [],
   "source": [
    "pvals.index=([\n",
    "       'Percent; Estimate; Population 25 years and over - Less than 9th grade',\n",
    "       'Percent; Estimate; Population 25 years and over - 9th to 12th grade, no diploma',\n",
    "       'Percent; Estimate; Population 25 years and over - High school graduate (includes equivalency)',\n",
    "       'Percent; Estimate; Population 25 years and over - Some college, no degree',\n",
    "       \"Percent; Estimate; Population 25 years and over - Associate's degree\",\n",
    "       \"Percent; Estimate; Population 25 years and over - Bachelor's degree\",\n",
    "       'Percent; Estimate; Population 25 years and over - Graduate or professional degree',\n",
    "       'Percent; Estimate; Percent high school graduate or higher',\n",
    "       'Total; Estimate; Population 65 years and over',\n",
    "       'Percent Uninsured; Estimate; Civilian noninstitutionalized population',\n",
    "       'Percent Insured; Estimate; Civilian noninstitutionalized population',\n",
    "       'Total; Estimate; AGE - 18 to 64 years',\n",
    "       'Percent Insured; Estimate; AGE - 18 to 64 years',\n",
    "       'Percent Uninsured; Estimate; AGE - 18 to 64 years',\n",
    "       'Percent; EMPLOYMENT STATUS - Population 16 years and over - In labor force',\n",
    "       'Percent; EMPLOYMENT STATUS - Population 16 years and over - In labor force - Civilian labor force - Employed',\n",
    "       'Percent; EMPLOYMENT STATUS - Civilian labor force - Unemployment Rate',\n",
    "       'Estimate; INCOME AND BENEFITS (IN 2015 INFLATION-ADJUSTED DOLLARS) - Total households',\n",
    "       'Estimate; INCOME AND BENEFITS (IN 2015 INFLATION-ADJUSTED DOLLARS) - Per capita income (dollars)',\n",
    "       '% Obese', 'Food Environment Index', '% Physically Inactive',\n",
    "       '% Uninsured', 'Income Ratio', 'Average Daily PM2.5',\n",
    "       '% Severe Housing Problems', '% Hispanic', '% African American',\n",
    "       '% Rural', '% Diabetic', 'HIV Prevalence Rate',\n",
    "       'Age-Adjusted Mortality', '% Food Insecure', 'Costs',\n",
    "       'Premium Adult Individual Age 27', 'Issuer Name', \"Facility\", \"Beds\", 'Total Number of Consumers Who Have Selected a Marketplace Plan',\n",
    "       'New Consumers', 'Active Re-enrollees', 'Automatic Re-enrollees'])\n",
    "\n"
   ]
  },
  {
   "cell_type": "code",
   "execution_count": null,
   "metadata": {
    "collapsed": false
   },
   "outputs": [],
   "source": [
    "pvals=pvals[pvals[\"1_x\"]<=0.05]"
   ]
  },
  {
   "cell_type": "code",
   "execution_count": null,
   "metadata": {
    "collapsed": false
   },
   "outputs": [],
   "source": [
    "pvals"
   ]
  },
  {
   "cell_type": "code",
   "execution_count": null,
   "metadata": {
    "collapsed": false
   },
   "outputs": [],
   "source": [
    "SilverUS2014=plans2014[plans2014[\"Metal Level\"]==\"Silver\"]\n",
    "SilverUS2015=plans2015[plans2015[\"Metal Level\"]==\"Silver\"]\n",
    "SilverUS2016=plans2016[plans2016[\"Metal Level\"]==\"Silver\"]\n",
    "SilverUS2017=plans2017[plans2017[\"Metal Level\"]==\"Silver\"]"
   ]
  },
  {
   "cell_type": "code",
   "execution_count": null,
   "metadata": {
    "collapsed": false
   },
   "outputs": [],
   "source": [
    "TX2016.columns"
   ]
  },
  {
   "cell_type": "code",
   "execution_count": null,
   "metadata": {
    "collapsed": false
   },
   "outputs": [],
   "source": [
    "TX2015[\"Plan ID (standard component)\"].nunique()"
   ]
  },
  {
   "cell_type": "code",
   "execution_count": null,
   "metadata": {
    "collapsed": false
   },
   "outputs": [],
   "source": [
    "TX2014[\"Plan ID (standard component)\"].nunique()"
   ]
  },
  {
   "cell_type": "code",
   "execution_count": null,
   "metadata": {
    "collapsed": false
   },
   "outputs": [],
   "source": [
    "TX2017[\"Plan ID (Standard Component)\"].nunique()"
   ]
  },
  {
   "cell_type": "code",
   "execution_count": null,
   "metadata": {
    "collapsed": false
   },
   "outputs": [],
   "source": [
    "SilverTX2015=TX2015[TX2015[\"Metal Level\"]==\"Silver\"]\n",
    "SilverTX2015[\"Premium Adult Individual Age 27\"].mean()"
   ]
  },
  {
   "cell_type": "code",
   "execution_count": null,
   "metadata": {
    "collapsed": false
   },
   "outputs": [],
   "source": [
    "SilverTX2016=TX2016[TX2016[\"Metal Level\"]==\"Silver\"]\n",
    "SilverTX2016[\"Premium Adult Individual Age 27\"].mean()"
   ]
  },
  {
   "cell_type": "code",
   "execution_count": null,
   "metadata": {
    "collapsed": false
   },
   "outputs": [],
   "source": [
    "SilverTX2017=TX2017[TX2017[\"Metal Level\"]==\"Silver\"]\n",
    "SilverTX2017[\"Premium Adult Individual Age 27\"].mean()"
   ]
  }
 ],
 "metadata": {
  "anaconda-cloud": {},
  "kernelspec": {
   "display_name": "Python [conda root]",
   "language": "python",
   "name": "conda-root-py"
  },
  "language_info": {
   "codemirror_mode": {
    "name": "ipython",
    "version": 3
   },
   "file_extension": ".py",
   "mimetype": "text/x-python",
   "name": "python",
   "nbconvert_exporter": "python",
   "pygments_lexer": "ipython3",
   "version": "3.5.2"
  }
 },
 "nbformat": 4,
 "nbformat_minor": 1
}
