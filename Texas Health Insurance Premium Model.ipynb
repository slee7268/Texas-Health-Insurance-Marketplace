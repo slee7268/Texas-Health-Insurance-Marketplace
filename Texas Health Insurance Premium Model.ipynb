{
 "cells": [
  {
   "cell_type": "code",
   "execution_count": 1,
   "metadata": {
    "collapsed": false
   },
   "outputs": [],
   "source": [
    "import pandas as pd\n",
    "import matplotlib.pyplot as plt\n",
    "%matplotlib inline\n",
    "import seaborn as sns\n",
    "from sklearn.linear_model import LinearRegression\n",
    "from sklearn.linear_model import LogisticRegression\n",
    "from sklearn.ensemble import RandomForestClassifier\n",
    "from sklearn.cross_validation import train_test_split\n",
    "from sklearn import metrics\n",
    "from sklearn.metrics import accuracy_score\n",
    "from scipy.stats import ttest_ind\n",
    "from sklearn.cross_validation import cross_val_score\n",
    "from skmultilearn.adapt import MLkNN\n",
    "import statsmodels.formula.api as smf\n",
    "import statsmodels.api as sm\n",
    "import numpy as np\n",
    "from urllib.request import urlopen\n",
    "import requests\n",
    "from bs4 import BeautifulSoup\n",
    "import re"
   ]
  },
  {
   "cell_type": "code",
   "execution_count": 2,
   "metadata": {
    "collapsed": true
   },
   "outputs": [],
   "source": [
    "plans2015=pd.read_excel(\"PY2015_Med-Indi-Land-08-13-2015.xlsx\", parse_cols=\"A:J, H, X, BG\")"
   ]
  },
  {
   "cell_type": "code",
   "execution_count": 3,
   "metadata": {
    "collapsed": true
   },
   "outputs": [],
   "source": [
    "NM2015=pd.read_excel(\"PY2015_NM-Med-Indi-Land-08-13-2015.xlsx\", parse_cols=\"A:J, H, X, BG\")\n",
    "NV2015=pd.read_excel(\"PY2015_NV-Med-Indi-Land-08-13-2015.xlsx\", parse_cols=\"A:J, H, X, BG\")\n",
    "OR2015=pd.read_excel(\"PY2015_OR-Med-Indi-Land-08-13-2015.xlsx\", parse_cols=\"A:J, H, X, BG\")"
   ]
  },
  {
   "cell_type": "code",
   "execution_count": 4,
   "metadata": {
    "collapsed": true
   },
   "outputs": [],
   "source": [
    "plans2015=plans2015.append(NM2015)\n",
    "plans2015=plans2015.append(NV2015)\n",
    "plans2015=plans2015.append(OR2015)"
   ]
  },
  {
   "cell_type": "code",
   "execution_count": 5,
   "metadata": {
    "collapsed": true
   },
   "outputs": [],
   "source": [
    "plans2016=pd.read_excel(\"PY2016_Med-Indi-Land-07-29-2016.xlsx\", parse_cols=\"A:J, H, X, BG\")\n",
    "plans2017=pd.read_excel(\"PY2017_Individual_Market_Medical_05_10_2017.xlsx\", parse_cols=\"A:J, H, X, BG\")\n"
   ]
  },
  {
   "cell_type": "code",
   "execution_count": 6,
   "metadata": {
    "collapsed": true
   },
   "outputs": [],
   "source": [
    "plans2014=pd.read_excel(\"Individual_Market_Medical_8_11_14.xlsx\", parse_cols=\"A:J, H, W, BF\")\n",
    "NM2014=pd.read_excel(\"NM_Individual_Market_Medical_8_11_14.xlsx\", parse_cols=\"A:J, H, W, BF\")\n",
    "plans2014=plans2014.append(NM2014)"
   ]
  },
  {
   "cell_type": "code",
   "execution_count": 7,
   "metadata": {
    "collapsed": true
   },
   "outputs": [],
   "source": [
    "Edu = pd.read_csv(\"Texas Health Insurance/ACS_15_5YR_S1501_with_ann.csv\", skiprows=1)\n",
    "Uninsured=pd.read_csv(\"Texas Health Insurance/ACS_15_5YR_S2701_with_ann.csv\", skiprows=1)\n",
    "Pop = pd.read_csv(\"Texas Health Insurance/ACS_15_5YR_S0101_with_ann.csv\", skiprows=1)\n",
    "Employment = pd.read_csv(\"Texas Health Insurance/ACS_15_5YR_DP03_with_ann.csv\", skiprows=1)\n",
    "HealthRankings=pd.read_excel(\"Texas Health Insurance/2015 County Health Rankings Texas Data - v3.xls\", \"Ranked Measure Data\", skiprows=1)\n",
    "HealthRankings2=pd.read_excel(\"Texas Health Insurance/2015 County Health Rankings Texas Data - v3.xls\", \"Additional Measure Data\", skiprows=1)"
   ]
  },
  {
   "cell_type": "code",
   "execution_count": 8,
   "metadata": {
    "collapsed": false
   },
   "outputs": [
    {
     "name": "stderr",
     "output_type": "stream",
     "text": [
      "C:\\Users\\slee7268\\Anaconda3\\lib\\site-packages\\ipykernel\\__main__.py:4: SettingWithCopyWarning: \n",
      "A value is trying to be set on a copy of a slice from a DataFrame.\n",
      "Try using .loc[row_indexer,col_indexer] = value instead\n",
      "\n",
      "See the caveats in the documentation: http://pandas.pydata.org/pandas-docs/stable/indexing.html#indexing-view-versus-copy\n",
      "C:\\Users\\slee7268\\Anaconda3\\lib\\site-packages\\ipykernel\\__main__.py:5: SettingWithCopyWarning: \n",
      "A value is trying to be set on a copy of a slice from a DataFrame.\n",
      "Try using .loc[row_indexer,col_indexer] = value instead\n",
      "\n",
      "See the caveats in the documentation: http://pandas.pydata.org/pandas-docs/stable/indexing.html#indexing-view-versus-copy\n"
     ]
    }
   ],
   "source": [
    "hospitals=pd.read_csv(\"tabula-hosplis2016.csv\")\n",
    "FIPS=pd.read_excel(\"TexasFIPS.xlsx\", skiprows=1)\n",
    "TXplans2015=plans2015[plans2015[\"State \"]==\"TX\"]\n",
    "TXplans2015[\"Premium Adult Individual Age 27\"]=TXplans2015[\"Premium Adult Individual Age 27\"].astype(str).astype(float)\n",
    "TXplans2015[\"Premium Adult Individual Age 27\"]=TXplans2015[\"Premium Adult Individual Age 27\"].astype(str).astype(float)"
   ]
  },
  {
   "cell_type": "code",
   "execution_count": 9,
   "metadata": {
    "collapsed": false
   },
   "outputs": [],
   "source": [
    "hospitals=hospitals[[\"Facility\", \"County\", \"Beds\", \"Beds.1\", \"Ownership\"]]\n",
    "hospitals=hospitals.rename(columns={\"Beds.1\":\"Psychiatric Beds\"})"
   ]
  },
  {
   "cell_type": "code",
   "execution_count": 10,
   "metadata": {
    "collapsed": false
   },
   "outputs": [],
   "source": [
    "hospitals[\"County\"]\n",
    "x=[]\n",
    "for i in hospitals[\"County\"]:\n",
    "    x.append(i)\n",
    "\n",
    "d=[]\n",
    "for j in x:\n",
    "    d.append(re.sub(r'\\d+', '', j))\n",
    "\n",
    "#uppercase\n",
    "r=[]\n",
    "for l in d:\n",
    "    r.append(re.sub('[^A-Z]', '', l))\n",
    "\n",
    "#alphanumeric\n",
    "s=[]\n",
    "for k in r:\n",
    "    s.append(re.sub(r'[^\\w]', '', k))\n",
    "f=[]\n",
    "for p in s:\n",
    "    f.append(p.title())\n",
    "\n",
    "hospitals[\"Counties\"]=pd.Series(f)"
   ]
  },
  {
   "cell_type": "code",
   "execution_count": 11,
   "metadata": {
    "collapsed": false
   },
   "outputs": [],
   "source": [
    "hospitals=hospitals.replace(\"Jimwells\", \"Jim Wells\")\n",
    "hospitals=hospitals.replace(\"Elpaso\", \"El Paso\")\n",
    "hospitals=hospitals.replace(\"Sanpatricio\", \"San Patricio\")\n",
    "hospitals=hospitals.replace(\"Dewitt\", \"DeWitt\")\n",
    "hospitals=hospitals.replace(\"Valverde\", \"Val Verde\")\n",
    "hospitals=hospitals.replace(\"Vanzandt\", \"Van Zandt\")\n",
    "hospitals=hospitals.replace(\"Tomgreen\", \"Tom Green\")\n",
    "hospitals=hospitals.replace(\"Throckmort\", \"Throckmorton\")\n",
    "hospitals=hospitals.replace(\"Sanaugustine\", \"San Augustine\")\n",
    "hospitals=hospitals.replace(\"Nbharris\", \"Harris\")\n",
    "hospitals=hospitals.replace(\"Ngrimes\", \"Grimes\")\n",
    "hospitals=hospitals.replace(\"Mcculloch\", \"McCulloch\")\n",
    "hospitals=hospitals.replace(\"Mclennan\", \"McLennan\")\n",
    "hospitals=hospitals.replace(\"Palopinto\", \"Palo Pinto\")\n",
    "hospitals=hospitals.replace(\"Nacogdoche\", \"Nacogdoches\")\n",
    "hospitals=hospitals.replace(\"Fortbend\", \"Fort Bend\")\n",
    "hospitals=hospitals.replace(\"Deafsmith\", \"Deaf Smith\")\n",
    "\n",
    "\n",
    "UniqueFacilities=hospitals.groupby(\"Counties\")[\"Facility\"].nunique().reset_index()\n",
    "\n",
    "Beds=hospitals.groupby(\"Counties\")[\"Beds\"].sum().reset_index()\n"
   ]
  },
  {
   "cell_type": "code",
   "execution_count": null,
   "metadata": {
    "collapsed": false
   },
   "outputs": [],
   "source": []
  },
  {
   "cell_type": "code",
   "execution_count": 12,
   "metadata": {
    "collapsed": false
   },
   "outputs": [],
   "source": [
    "FIPS=FIPS.rename(columns={\"County.1\": \"County\", \"County\": \"County Number\"})"
   ]
  },
  {
   "cell_type": "code",
   "execution_count": 13,
   "metadata": {
    "collapsed": false
   },
   "outputs": [
    {
     "data": {
      "text/html": [
       "<div>\n",
       "<table border=\"1\" class=\"dataframe\">\n",
       "  <thead>\n",
       "    <tr style=\"text-align: right;\">\n",
       "      <th></th>\n",
       "      <th>Number</th>\n",
       "      <th>Name</th>\n",
       "      <th>Code</th>\n",
       "      <th>Region</th>\n",
       "      <th>Region.1</th>\n",
       "    </tr>\n",
       "  </thead>\n",
       "  <tbody>\n",
       "    <tr>\n",
       "      <th>0</th>\n",
       "      <td>1</td>\n",
       "      <td>Anderson</td>\n",
       "      <td>48001</td>\n",
       "      <td>4</td>\n",
       "      <td>4/5N</td>\n",
       "    </tr>\n",
       "    <tr>\n",
       "      <th>1</th>\n",
       "      <td>2</td>\n",
       "      <td>Andrews</td>\n",
       "      <td>48003</td>\n",
       "      <td>9</td>\n",
       "      <td>2017-09-10 00:00:00</td>\n",
       "    </tr>\n",
       "    <tr>\n",
       "      <th>2</th>\n",
       "      <td>3</td>\n",
       "      <td>Angelina</td>\n",
       "      <td>48005</td>\n",
       "      <td>5</td>\n",
       "      <td>4/5N</td>\n",
       "    </tr>\n",
       "    <tr>\n",
       "      <th>3</th>\n",
       "      <td>4</td>\n",
       "      <td>Aransas</td>\n",
       "      <td>48007</td>\n",
       "      <td>11</td>\n",
       "      <td>11</td>\n",
       "    </tr>\n",
       "    <tr>\n",
       "      <th>4</th>\n",
       "      <td>5</td>\n",
       "      <td>Archer</td>\n",
       "      <td>48009</td>\n",
       "      <td>2</td>\n",
       "      <td>2017-02-03 00:00:00</td>\n",
       "    </tr>\n",
       "  </tbody>\n",
       "</table>\n",
       "</div>"
      ],
      "text/plain": [
       "   Number      Name   Code  Region             Region.1\n",
       "0       1  Anderson  48001       4                 4/5N\n",
       "1       2   Andrews  48003       9  2017-09-10 00:00:00\n",
       "2       3  Angelina  48005       5                 4/5N\n",
       "3       4   Aransas  48007      11                   11\n",
       "4       5    Archer  48009       2  2017-02-03 00:00:00"
      ]
     },
     "execution_count": 13,
     "metadata": {},
     "output_type": "execute_result"
    }
   ],
   "source": [
    "FIPS.head()"
   ]
  },
  {
   "cell_type": "code",
   "execution_count": 14,
   "metadata": {
    "collapsed": false
   },
   "outputs": [],
   "source": [
    "x=[]\n",
    "for i, row in Edu[\"Geography\"].iteritems():\n",
    "    x.append(row.strip().split(\",\")[0].rsplit(\" \", 1)[0])\n",
    "    \n",
    "Edu[\"County\"]=pd.Series(x)\n",
    "Edu=Edu[[\"County\", \"Total; Estimate; MEDIAN EARNINGS IN THE PAST 12 MONTHS (IN 2015 INFLATION-ADJUSTED DOLLARS) - Population 25 years and over with earnings\", \"Percent; Estimate; Population 25 years and over - Less than 9th grade\", \"Percent; Estimate; Population 25 years and over - 9th to 12th grade, no diploma\", \"Percent; Estimate; Population 25 years and over - High school graduate (includes equivalency)\", \"Percent; Estimate; Population 25 years and over - Some college, no degree\", \"Percent; Estimate; Population 25 years and over - Associate's degree\", \"Percent; Estimate; Population 25 years and over - Bachelor's degree\", \"Percent; Estimate; Population 25 years and over - Graduate or professional degree\", \"Percent; Estimate; Percent high school graduate or higher\", \"Total; Estimate; Population 65 years and over\"]]"
   ]
  },
  {
   "cell_type": "code",
   "execution_count": 15,
   "metadata": {
    "collapsed": false
   },
   "outputs": [],
   "source": [
    "y=[]\n",
    "for i, row in Uninsured[\"Geography\"].iteritems():\n",
    "    y.append(row.strip().split(\",\")[0].rsplit(\" \", 1)[0])\n",
    "    \n",
    "Uninsured[\"County\"]=pd.Series(y)\n",
    "Uninsured=Uninsured[[\"County\", \"Percent Uninsured; Estimate; Civilian noninstitutionalized population\", \"Percent Insured; Estimate; Civilian noninstitutionalized population\", \"Total; Estimate; AGE - 18 to 64 years\", \"Percent Insured; Estimate; AGE - 18 to 64 years\", \"Percent Uninsured; Estimate; AGE - 18 to 64 years\"]]"
   ]
  },
  {
   "cell_type": "code",
   "execution_count": 16,
   "metadata": {
    "collapsed": true
   },
   "outputs": [],
   "source": [
    "z=[]\n",
    "for i, row in Employment[\"Geography\"].iteritems():\n",
    "    z.append(row.strip().split(\",\")[0].rsplit(\" \", 1)[0])\n",
    "    \n",
    "Employment[\"County\"]=pd.Series(z)\n",
    "Employment=Employment[[\"County\", \"Percent; EMPLOYMENT STATUS - Population 16 years and over - In labor force\", \"Percent; EMPLOYMENT STATUS - Population 16 years and over - In labor force - Civilian labor force - Employed\", \"Percent; EMPLOYMENT STATUS - Civilian labor force - Unemployment Rate\", \"Estimate; INCOME AND BENEFITS (IN 2015 INFLATION-ADJUSTED DOLLARS) - Total households\", \"Estimate; INCOME AND BENEFITS (IN 2015 INFLATION-ADJUSTED DOLLARS) - Total households - Median household income (dollars)\", \"Estimate; INCOME AND BENEFITS (IN 2015 INFLATION-ADJUSTED DOLLARS) - Per capita income (dollars)\"]]"
   ]
  },
  {
   "cell_type": "code",
   "execution_count": 17,
   "metadata": {
    "collapsed": false
   },
   "outputs": [],
   "source": [
    "HealthRankings=HealthRankings[[\"County\", \"% Obese\", \"Food Environment Index\", \"% Physically Inactive\", \"% Uninsured\", \"Income Ratio\", \"Average Daily PM2.5\", \"% Severe Housing Problems\"]]\n",
    "HealthRankings2=HealthRankings2[[\"County\", \"% Hispanic\", \"% African American\", \"% Rural\", \"% Diabetic\", \"HIV Prevalence Rate\", \"Age-Adjusted Mortality\", \"% Food Insecure\", \"Costs\"]]"
   ]
  },
  {
   "cell_type": "code",
   "execution_count": 18,
   "metadata": {
    "collapsed": false
   },
   "outputs": [
    {
     "name": "stderr",
     "output_type": "stream",
     "text": [
      "C:\\Users\\slee7268\\Anaconda3\\lib\\site-packages\\statsmodels\\nonparametric\\kdetools.py:20: VisibleDeprecationWarning: using a non-integer number instead of an integer will result in an error in the future\n",
      "  y = X[:m/2+1] + np.r_[0,X[m/2+1:],0]*1j\n"
     ]
    },
    {
     "data": {
      "text/plain": [
       "<matplotlib.axes._subplots.AxesSubplot at 0x2862ad69358>"
      ]
     },
     "execution_count": 18,
     "metadata": {},
     "output_type": "execute_result"
    },
    {
     "data": {
      "image/png": "[encoded data removed]",
      "text/plain": [
       "<matplotlib.figure.Figure at 0x286236a80f0>"
      ]
     },
     "metadata": {},
     "output_type": "display_data"
    }
   ],
   "source": [
    "sns.distplot(TXplans2015[TXplans2015[\"Metal Level\"]==\"Silver\"][\"Premium Adult Individual Age 27\"])"
   ]
  },
  {
   "cell_type": "code",
   "execution_count": 19,
   "metadata": {
    "collapsed": true
   },
   "outputs": [],
   "source": [
    "BronzeTXPlans2015=TXplans2015[TXplans2015[\"Metal Level\"]==\"Bronze\"]\n",
    "SilverTXPlans2015=TXplans2015[TXplans2015[\"Metal Level\"]==\"Silver\"]\n",
    "GoldTXPlans2015=TXplans2015[TXplans2015[\"Metal Level\"]==\"Gold\"]\n",
    "PlatinumTXPlans2015=TXplans2015[TXplans2015[\"Metal Level\"]==\"Platinum\"]\n",
    "CatastrophicTXPlans2015=TXplans2015[TXplans2015[\"Metal Level\"]==\"Catastrophic\"]\n",
    "\n",
    "DependentBronze=BronzeTXPlans2015[[\"Metal Level\", \"Issuer Name\", \"Plan ID (standard component)\", \"Plan Type\",  \"Rating Area\", \"County\", \"Premium Adult Individual Age 27\", \"Medical Deductible-individual-standard\"]]\n",
    "DependentSilver=SilverTXPlans2015[[\"Metal Level\", \"Issuer Name\", \"Plan ID (standard component)\", \"Plan Type\",  \"Rating Area\", \"County\", \"Premium Adult Individual Age 27\", \"Medical Deductible-individual-standard\"]]\n"
   ]
  },
  {
   "cell_type": "code",
   "execution_count": 20,
   "metadata": {
    "collapsed": false
   },
   "outputs": [],
   "source": [
    "\n",
    "NumberOfIssuersBronze=DependentBronze.groupby([\"Metal Level\", \"Rating Area\", \"County\"])[\"Issuer Name\"].nunique().reset_index()\n",
    "\n",
    "#DependentBronze=DependentBronze.groupby([\"Metal Level\", \"Rating Area\", \"County\"], as_index=False).mean()\n",
    "NumberOfIssuersSilver=DependentSilver.groupby([\"Metal Level\", \"Rating Area\", \"County\"])[\"Issuer Name\"].nunique().reset_index()\n",
    "#DependentSilver=DependentSilver.groupby([\"Metal Level\", \"Rating Area\", \"County\"], as_index=False).mean()\n",
    "\n",
    "DependentBronze = pd.merge(DependentBronze, NumberOfIssuersBronze, how='left', on=['County'])\n",
    "\n",
    "#DependentBronze=DependentBronze[[\"Metal Level_x\", \"Issuer Name_x\", \"Plan ID (standard component)\", \"Plan Type\", \"Rating Area_x\", \"County\", \"Premium Adult Individual Age 27\", \"Medical Deductible-individual-standard\", \"Issuer Name_y\", \"Florida Blue (BlueCross BlueShield FL)\", \"Florida Blue HMO (a BlueCross BlueShield FL company)\", \"Cigna Healthcare\", \"Florida Health Care Plans\", \"Health First Health Plans, Inc.\", \"Health First Insurance, Inc.\", \"Humana, Inc.\", \"Molina Marketplace\", \"UnitedHealthcare\", \"Coventry Health Care of Florida, Inc.\", \"Ambetter from Sunshine Health\", \"Aetna\", \"EPO\", \"HMO\", \"POS\", \"PPO\"]]\n",
    "\n",
    "#DependentSilver=pd.merge(DependentSilver, groupedCatVars, how=\"left\", on=[\"Rating Area\"])\n",
    "DependentSilver=pd.merge(DependentSilver, NumberOfIssuersSilver, how=\"left\", on =[\"County\"])\n",
    "#DependentSilver=DependentSilver[[\"Metal Level_x\", \"Issuer Name_x\", \"Plan ID (standard component)\", \"Plan Type\", \"Rating Area_x\", \"County\", \"Premium Adult Individual Age 27\", \"Medical Deductible-individual-standard\", \"Issuer Name_y\", \"Florida Blue (BlueCross BlueShield FL)\", \"Florida Blue HMO (a BlueCross BlueShield FL company)\", \"Cigna Healthcare\", \"Florida Health Care Plans\", \"Health First Health Plans, Inc.\", \"Health First Insurance, Inc.\", \"Humana, Inc.\", \"Molina Marketplace\", \"UnitedHealthcare\", \"Coventry Health Care of Florida, Inc.\", \"Ambetter from Sunshine Health\", \"Aetna\", \"EPO\", \"HMO\", \"POS\", \"PPO\"]]\n",
    "#DependentSilver=pd.merge(DependentSilver, groupedCatVars, how=\"left\", on=[\"Rating Area\"])\n",
    "\n",
    "DependentBronze=DependentBronze.rename(columns={\"Metal Level_x\":\"Metal Level\", \"Issuer Name_x\": \"Issuer Name\", \"Rating Area_x\": \"Rating Area\", \"Issuer Name_y\": \"Number Of Insurers\"})\n",
    "DependentSilver=DependentSilver.rename(columns={\"Metal Level_x\":\"Metal Level\", \"Issuer Name_x\": \"Issuer Name\", \"Rating Area_x\": \"Rating Area\", \"Issuer Name_y\": \"Number Of Insurers\"})"
   ]
  },
  {
   "cell_type": "code",
   "execution_count": 21,
   "metadata": {
    "collapsed": true
   },
   "outputs": [],
   "source": [
    "catVars=pd.get_dummies(TXplans2015[\"Issuer Name\"]).join(pd.get_dummies(TXplans2015[\"Plan Type\"])).join(pd.get_dummies(TXplans2015[\"Rating Area\"]))\n",
    "#BronzeTXPlans2015=BronzeTXPlans2015.join(catVars)\n",
    "#SilverTXPlans2015=SilverTXPlans2015.join(catVars)\n",
    "\n",
    "TXplans2015Cat=TXplans2015.join(catVars)"
   ]
  },
  {
   "cell_type": "code",
   "execution_count": 22,
   "metadata": {
    "collapsed": true
   },
   "outputs": [],
   "source": [
    "catVars=TXplans2015Cat[[\"County\", \"Rating Area\", \"Plan ID (standard component)\", \"Aetna\", \"Allegian Choice\", \"Ambetter from Superior Health Plan\", \"Blue Cross and Blue Shield of Texas\", \"Cigna Healthcare\", \"Community Health Choice\", \"CommunityFirst\", \"FirstCare Health Plans\", \"Humana, Inc.\", \"Molina Marketplace\", \"Scott and White Health Plan\", \"Sendero Health Plans\", \"UnitedHealthcare\", \"EPO\", \"HMO\", \"POS\", \"PPO\", \"Rating Area 1\", \"Rating Area 2\", \"Rating Area 3\", \"Rating Area 4\", \"Rating Area 5\", \"Rating Area 6\", \"Rating Area 7\", \"Rating Area 8\", \"Rating Area 9\", \"Rating Area 10\", \"Rating Area 11\", \"Rating Area 12\", \"Rating Area 13\", \"Rating Area 14\", \"Rating Area 15\", \"Rating Area 16\", \"Rating Area 17\", \"Rating Area 18\", \"Rating Area 19\", \"Rating Area 20\", \"Rating Area 21\", \"Rating Area 22\", \"Rating Area 23\", \"Rating Area 24\", \"Rating Area 25\", \"Rating Area 26\"]]\n",
    "groupedCatVars=catVars.groupby([\"Rating Area\"]).sum()\n",
    "\n",
    "#groupedCatVars[[\"Florida Blue (BlueCross BlueShield FL)\", \"Florida Blue HMO (a BlueCross BlueShield FL company)\", \"Cigna Healthcare\", \"Florida Health Care Plans\", \"Health First Health Plans, Inc.\", \"Health First Insurance, Inc.\", \"Humana, Inc.\", \"Molina Marketplace\", \"UnitedHealthcare\", \"Coventry Health Care of Florida, Inc.\", \"Ambetter from Sunshine Health\", \"Aetna\", \"EPO\", \"HMO\", \"POS\", \"PPO\"]]\n",
    "#groupedCatVars[groupedCatVars!=0]=1\n",
    "#groupedCatVars=groupedCatVars[[\"Florida Blue (BlueCross BlueShield FL)\", \"Florida Blue HMO (a BlueCross BlueShield FL company)\", \"Cigna Healthcare\", \"Florida Health Care Plans\", \"Health First Health Plans, Inc.\", \"Health First Insurance, Inc.\", \"Humana, Inc.\", \"Molina Marketplace\", \"UnitedHealthcare\", \"Coventry Health Care of Florida, Inc.\", \"Ambetter from Sunshine Health\", \"Aetna\", \"EPO\", \"HMO\", \"POS\", \"PPO\"]]\n",
    "groupedCatVars[groupedCatVars!=0]=1\n",
    "groupedCatVars=groupedCatVars.reset_index()\n",
    "\n",
    "PresenceInsurer=catVars.groupby([\"County\"]).sum()\n",
    "PresenceInsurer[PresenceInsurer!=0]=1\n",
    "#PresenceInsurer=PresenceInsurer.reset_index()"
   ]
  },
  {
   "cell_type": "code",
   "execution_count": 23,
   "metadata": {
    "collapsed": true
   },
   "outputs": [],
   "source": [
    "NumberOfInsurers=TXplans2015.groupby(\"County\")[\"Issuer Name\"].nunique().reset_index()\n",
    "AvgSilverPremium=TXplans2015.groupby(\"County\")[\"Premium Adult Individual Age 27\"].mean().reset_index()\n",
    "NumberOfPlans=TXplans2015.groupby(\"County\")[\"Plan ID (standard component)\"].nunique().reset_index()"
   ]
  },
  {
   "cell_type": "code",
   "execution_count": 24,
   "metadata": {
    "collapsed": false
   },
   "outputs": [],
   "source": [
    "PresenceInsurerAndNumberOfInsurers=pd.merge(PresenceInsurer, NumberOfInsurers, left_index=True, right_on=\"County\")\n",
    "PresenceInsurer2=pd.merge(PresenceInsurerAndNumberOfInsurers, AvgSilverPremium)\n",
    "PresenceInsurerMerge=pd.merge(PresenceInsurer2, NumberOfPlans)"
   ]
  },
  {
   "cell_type": "code",
   "execution_count": 25,
   "metadata": {
    "collapsed": false
   },
   "outputs": [
    {
     "data": {
      "text/html": [
       "<div>\n",
       "<table border=\"1\" class=\"dataframe\">\n",
       "  <thead>\n",
       "    <tr style=\"text-align: right;\">\n",
       "      <th></th>\n",
       "      <th>Metal Level</th>\n",
       "      <th>Issuer Name</th>\n",
       "      <th>Plan ID (standard component)</th>\n",
       "      <th>Plan Type</th>\n",
       "      <th>Rating Area</th>\n",
       "      <th>County</th>\n",
       "      <th>Premium Adult Individual Age 27</th>\n",
       "      <th>Medical Deductible-individual-standard</th>\n",
       "      <th>Metal Level_y</th>\n",
       "      <th>Rating Area_y</th>\n",
       "      <th>Number Of Insurers</th>\n",
       "    </tr>\n",
       "  </thead>\n",
       "  <tbody>\n",
       "    <tr>\n",
       "      <th>0</th>\n",
       "      <td>Silver</td>\n",
       "      <td>Blue Cross and Blue Shield of Texas</td>\n",
       "      <td>33602TX0420003</td>\n",
       "      <td>PPO</td>\n",
       "      <td>Rating Area 26</td>\n",
       "      <td>Anderson</td>\n",
       "      <td>267.73</td>\n",
       "      <td>$6,000</td>\n",
       "      <td>Silver</td>\n",
       "      <td>Rating Area 26</td>\n",
       "      <td>1</td>\n",
       "    </tr>\n",
       "    <tr>\n",
       "      <th>1</th>\n",
       "      <td>Silver</td>\n",
       "      <td>Blue Cross and Blue Shield of Texas</td>\n",
       "      <td>33602TX0420004</td>\n",
       "      <td>PPO</td>\n",
       "      <td>Rating Area 26</td>\n",
       "      <td>Anderson</td>\n",
       "      <td>279.40</td>\n",
       "      <td>$3,000</td>\n",
       "      <td>Silver</td>\n",
       "      <td>Rating Area 26</td>\n",
       "      <td>1</td>\n",
       "    </tr>\n",
       "    <tr>\n",
       "      <th>2</th>\n",
       "      <td>Silver</td>\n",
       "      <td>Blue Cross and Blue Shield of Texas</td>\n",
       "      <td>33602TX0440003</td>\n",
       "      <td>PPO</td>\n",
       "      <td>Rating Area 26</td>\n",
       "      <td>Anderson</td>\n",
       "      <td>270.66</td>\n",
       "      <td>$4,500</td>\n",
       "      <td>Silver</td>\n",
       "      <td>Rating Area 26</td>\n",
       "      <td>1</td>\n",
       "    </tr>\n",
       "    <tr>\n",
       "      <th>3</th>\n",
       "      <td>Silver</td>\n",
       "      <td>Blue Cross and Blue Shield of Texas</td>\n",
       "      <td>33602TX0440004</td>\n",
       "      <td>PPO</td>\n",
       "      <td>Rating Area 26</td>\n",
       "      <td>Anderson</td>\n",
       "      <td>260.02</td>\n",
       "      <td>$6,250</td>\n",
       "      <td>Silver</td>\n",
       "      <td>Rating Area 26</td>\n",
       "      <td>1</td>\n",
       "    </tr>\n",
       "    <tr>\n",
       "      <th>4</th>\n",
       "      <td>Silver</td>\n",
       "      <td>Blue Cross and Blue Shield of Texas</td>\n",
       "      <td>33602TX0460085</td>\n",
       "      <td>HMO</td>\n",
       "      <td>Rating Area 26</td>\n",
       "      <td>Anderson</td>\n",
       "      <td>203.34</td>\n",
       "      <td>$6,000</td>\n",
       "      <td>Silver</td>\n",
       "      <td>Rating Area 26</td>\n",
       "      <td>1</td>\n",
       "    </tr>\n",
       "    <tr>\n",
       "      <th>5</th>\n",
       "      <td>Silver</td>\n",
       "      <td>Blue Cross and Blue Shield of Texas</td>\n",
       "      <td>33602TX0460110</td>\n",
       "      <td>HMO</td>\n",
       "      <td>Rating Area 26</td>\n",
       "      <td>Anderson</td>\n",
       "      <td>211.72</td>\n",
       "      <td>$3,000</td>\n",
       "      <td>Silver</td>\n",
       "      <td>Rating Area 26</td>\n",
       "      <td>1</td>\n",
       "    </tr>\n",
       "    <tr>\n",
       "      <th>6</th>\n",
       "      <td>Silver</td>\n",
       "      <td>FirstCare Health Plans</td>\n",
       "      <td>26539TX0140003</td>\n",
       "      <td>HMO</td>\n",
       "      <td>Rating Area 26</td>\n",
       "      <td>Andrews</td>\n",
       "      <td>215.74</td>\n",
       "      <td>$2,000</td>\n",
       "      <td>Silver</td>\n",
       "      <td>Rating Area 26</td>\n",
       "      <td>2</td>\n",
       "    </tr>\n",
       "    <tr>\n",
       "      <th>7</th>\n",
       "      <td>Silver</td>\n",
       "      <td>Blue Cross and Blue Shield of Texas</td>\n",
       "      <td>33602TX0420003</td>\n",
       "      <td>PPO</td>\n",
       "      <td>Rating Area 26</td>\n",
       "      <td>Andrews</td>\n",
       "      <td>267.73</td>\n",
       "      <td>$6,000</td>\n",
       "      <td>Silver</td>\n",
       "      <td>Rating Area 26</td>\n",
       "      <td>2</td>\n",
       "    </tr>\n",
       "    <tr>\n",
       "      <th>8</th>\n",
       "      <td>Silver</td>\n",
       "      <td>Blue Cross and Blue Shield of Texas</td>\n",
       "      <td>33602TX0420004</td>\n",
       "      <td>PPO</td>\n",
       "      <td>Rating Area 26</td>\n",
       "      <td>Andrews</td>\n",
       "      <td>279.40</td>\n",
       "      <td>$3,000</td>\n",
       "      <td>Silver</td>\n",
       "      <td>Rating Area 26</td>\n",
       "      <td>2</td>\n",
       "    </tr>\n",
       "    <tr>\n",
       "      <th>9</th>\n",
       "      <td>Silver</td>\n",
       "      <td>Blue Cross and Blue Shield of Texas</td>\n",
       "      <td>33602TX0440003</td>\n",
       "      <td>PPO</td>\n",
       "      <td>Rating Area 26</td>\n",
       "      <td>Andrews</td>\n",
       "      <td>270.66</td>\n",
       "      <td>$4,500</td>\n",
       "      <td>Silver</td>\n",
       "      <td>Rating Area 26</td>\n",
       "      <td>2</td>\n",
       "    </tr>\n",
       "    <tr>\n",
       "      <th>10</th>\n",
       "      <td>Silver</td>\n",
       "      <td>Blue Cross and Blue Shield of Texas</td>\n",
       "      <td>33602TX0440004</td>\n",
       "      <td>PPO</td>\n",
       "      <td>Rating Area 26</td>\n",
       "      <td>Andrews</td>\n",
       "      <td>260.02</td>\n",
       "      <td>$6,250</td>\n",
       "      <td>Silver</td>\n",
       "      <td>Rating Area 26</td>\n",
       "      <td>2</td>\n",
       "    </tr>\n",
       "    <tr>\n",
       "      <th>11</th>\n",
       "      <td>Silver</td>\n",
       "      <td>Blue Cross and Blue Shield of Texas</td>\n",
       "      <td>33602TX0460085</td>\n",
       "      <td>HMO</td>\n",
       "      <td>Rating Area 26</td>\n",
       "      <td>Andrews</td>\n",
       "      <td>203.34</td>\n",
       "      <td>$6,000</td>\n",
       "      <td>Silver</td>\n",
       "      <td>Rating Area 26</td>\n",
       "      <td>2</td>\n",
       "    </tr>\n",
       "    <tr>\n",
       "      <th>12</th>\n",
       "      <td>Silver</td>\n",
       "      <td>Blue Cross and Blue Shield of Texas</td>\n",
       "      <td>33602TX0460110</td>\n",
       "      <td>HMO</td>\n",
       "      <td>Rating Area 26</td>\n",
       "      <td>Andrews</td>\n",
       "      <td>211.72</td>\n",
       "      <td>$3,000</td>\n",
       "      <td>Silver</td>\n",
       "      <td>Rating Area 26</td>\n",
       "      <td>2</td>\n",
       "    </tr>\n",
       "    <tr>\n",
       "      <th>13</th>\n",
       "      <td>Silver</td>\n",
       "      <td>Blue Cross and Blue Shield of Texas</td>\n",
       "      <td>33602TX0420003</td>\n",
       "      <td>PPO</td>\n",
       "      <td>Rating Area 26</td>\n",
       "      <td>Angelina</td>\n",
       "      <td>267.73</td>\n",
       "      <td>$6,000</td>\n",
       "      <td>Silver</td>\n",
       "      <td>Rating Area 26</td>\n",
       "      <td>1</td>\n",
       "    </tr>\n",
       "    <tr>\n",
       "      <th>14</th>\n",
       "      <td>Silver</td>\n",
       "      <td>Blue Cross and Blue Shield of Texas</td>\n",
       "      <td>33602TX0420004</td>\n",
       "      <td>PPO</td>\n",
       "      <td>Rating Area 26</td>\n",
       "      <td>Angelina</td>\n",
       "      <td>279.40</td>\n",
       "      <td>$3,000</td>\n",
       "      <td>Silver</td>\n",
       "      <td>Rating Area 26</td>\n",
       "      <td>1</td>\n",
       "    </tr>\n",
       "    <tr>\n",
       "      <th>15</th>\n",
       "      <td>Silver</td>\n",
       "      <td>Blue Cross and Blue Shield of Texas</td>\n",
       "      <td>33602TX0440003</td>\n",
       "      <td>PPO</td>\n",
       "      <td>Rating Area 26</td>\n",
       "      <td>Angelina</td>\n",
       "      <td>270.66</td>\n",
       "      <td>$4,500</td>\n",
       "      <td>Silver</td>\n",
       "      <td>Rating Area 26</td>\n",
       "      <td>1</td>\n",
       "    </tr>\n",
       "    <tr>\n",
       "      <th>16</th>\n",
       "      <td>Silver</td>\n",
       "      <td>Blue Cross and Blue Shield of Texas</td>\n",
       "      <td>33602TX0440004</td>\n",
       "      <td>PPO</td>\n",
       "      <td>Rating Area 26</td>\n",
       "      <td>Angelina</td>\n",
       "      <td>260.02</td>\n",
       "      <td>$6,250</td>\n",
       "      <td>Silver</td>\n",
       "      <td>Rating Area 26</td>\n",
       "      <td>1</td>\n",
       "    </tr>\n",
       "    <tr>\n",
       "      <th>17</th>\n",
       "      <td>Silver</td>\n",
       "      <td>Blue Cross and Blue Shield of Texas</td>\n",
       "      <td>33602TX0460085</td>\n",
       "      <td>HMO</td>\n",
       "      <td>Rating Area 26</td>\n",
       "      <td>Angelina</td>\n",
       "      <td>203.34</td>\n",
       "      <td>$6,000</td>\n",
       "      <td>Silver</td>\n",
       "      <td>Rating Area 26</td>\n",
       "      <td>1</td>\n",
       "    </tr>\n",
       "    <tr>\n",
       "      <th>18</th>\n",
       "      <td>Silver</td>\n",
       "      <td>Blue Cross and Blue Shield of Texas</td>\n",
       "      <td>33602TX0460110</td>\n",
       "      <td>HMO</td>\n",
       "      <td>Rating Area 26</td>\n",
       "      <td>Angelina</td>\n",
       "      <td>211.72</td>\n",
       "      <td>$3,000</td>\n",
       "      <td>Silver</td>\n",
       "      <td>Rating Area 26</td>\n",
       "      <td>1</td>\n",
       "    </tr>\n",
       "    <tr>\n",
       "      <th>19</th>\n",
       "      <td>Silver</td>\n",
       "      <td>Humana, Inc.</td>\n",
       "      <td>32673TX0630004</td>\n",
       "      <td>HMO</td>\n",
       "      <td>Rating Area 7</td>\n",
       "      <td>Aransas</td>\n",
       "      <td>212.27</td>\n",
       "      <td>$4,600</td>\n",
       "      <td>Silver</td>\n",
       "      <td>Rating Area 7</td>\n",
       "      <td>2</td>\n",
       "    </tr>\n",
       "    <tr>\n",
       "      <th>20</th>\n",
       "      <td>Silver</td>\n",
       "      <td>Blue Cross and Blue Shield of Texas</td>\n",
       "      <td>33602TX0420003</td>\n",
       "      <td>PPO</td>\n",
       "      <td>Rating Area 7</td>\n",
       "      <td>Aransas</td>\n",
       "      <td>267.42</td>\n",
       "      <td>$6,000</td>\n",
       "      <td>Silver</td>\n",
       "      <td>Rating Area 7</td>\n",
       "      <td>2</td>\n",
       "    </tr>\n",
       "    <tr>\n",
       "      <th>21</th>\n",
       "      <td>Silver</td>\n",
       "      <td>Blue Cross and Blue Shield of Texas</td>\n",
       "      <td>33602TX0420004</td>\n",
       "      <td>PPO</td>\n",
       "      <td>Rating Area 7</td>\n",
       "      <td>Aransas</td>\n",
       "      <td>279.08</td>\n",
       "      <td>$3,000</td>\n",
       "      <td>Silver</td>\n",
       "      <td>Rating Area 7</td>\n",
       "      <td>2</td>\n",
       "    </tr>\n",
       "    <tr>\n",
       "      <th>22</th>\n",
       "      <td>Silver</td>\n",
       "      <td>Blue Cross and Blue Shield of Texas</td>\n",
       "      <td>33602TX0440003</td>\n",
       "      <td>PPO</td>\n",
       "      <td>Rating Area 7</td>\n",
       "      <td>Aransas</td>\n",
       "      <td>270.35</td>\n",
       "      <td>$4,500</td>\n",
       "      <td>Silver</td>\n",
       "      <td>Rating Area 7</td>\n",
       "      <td>2</td>\n",
       "    </tr>\n",
       "    <tr>\n",
       "      <th>23</th>\n",
       "      <td>Silver</td>\n",
       "      <td>Blue Cross and Blue Shield of Texas</td>\n",
       "      <td>33602TX0440004</td>\n",
       "      <td>PPO</td>\n",
       "      <td>Rating Area 7</td>\n",
       "      <td>Aransas</td>\n",
       "      <td>259.72</td>\n",
       "      <td>$6,250</td>\n",
       "      <td>Silver</td>\n",
       "      <td>Rating Area 7</td>\n",
       "      <td>2</td>\n",
       "    </tr>\n",
       "    <tr>\n",
       "      <th>24</th>\n",
       "      <td>Silver</td>\n",
       "      <td>Blue Cross and Blue Shield of Texas</td>\n",
       "      <td>33602TX0460066</td>\n",
       "      <td>HMO</td>\n",
       "      <td>Rating Area 7</td>\n",
       "      <td>Aransas</td>\n",
       "      <td>201.03</td>\n",
       "      <td>$6,000</td>\n",
       "      <td>Silver</td>\n",
       "      <td>Rating Area 7</td>\n",
       "      <td>2</td>\n",
       "    </tr>\n",
       "    <tr>\n",
       "      <th>25</th>\n",
       "      <td>Silver</td>\n",
       "      <td>Blue Cross and Blue Shield of Texas</td>\n",
       "      <td>33602TX0460091</td>\n",
       "      <td>HMO</td>\n",
       "      <td>Rating Area 7</td>\n",
       "      <td>Aransas</td>\n",
       "      <td>209.31</td>\n",
       "      <td>$3,000</td>\n",
       "      <td>Silver</td>\n",
       "      <td>Rating Area 7</td>\n",
       "      <td>2</td>\n",
       "    </tr>\n",
       "    <tr>\n",
       "      <th>26</th>\n",
       "      <td>Silver</td>\n",
       "      <td>Humana, Inc.</td>\n",
       "      <td>63141TX0750011</td>\n",
       "      <td>PPO</td>\n",
       "      <td>Rating Area 7</td>\n",
       "      <td>Aransas</td>\n",
       "      <td>227.92</td>\n",
       "      <td>$4,250</td>\n",
       "      <td>Silver</td>\n",
       "      <td>Rating Area 7</td>\n",
       "      <td>2</td>\n",
       "    </tr>\n",
       "    <tr>\n",
       "      <th>27</th>\n",
       "      <td>Silver</td>\n",
       "      <td>Humana, Inc.</td>\n",
       "      <td>63141TX0750012</td>\n",
       "      <td>PPO</td>\n",
       "      <td>Rating Area 7</td>\n",
       "      <td>Aransas</td>\n",
       "      <td>224.07</td>\n",
       "      <td>$3,650</td>\n",
       "      <td>Silver</td>\n",
       "      <td>Rating Area 7</td>\n",
       "      <td>2</td>\n",
       "    </tr>\n",
       "    <tr>\n",
       "      <th>28</th>\n",
       "      <td>Silver</td>\n",
       "      <td>Blue Cross and Blue Shield of Texas</td>\n",
       "      <td>33602TX0420003</td>\n",
       "      <td>PPO</td>\n",
       "      <td>Rating Area 25</td>\n",
       "      <td>Archer</td>\n",
       "      <td>290.04</td>\n",
       "      <td>$6,000</td>\n",
       "      <td>Silver</td>\n",
       "      <td>Rating Area 25</td>\n",
       "      <td>1</td>\n",
       "    </tr>\n",
       "    <tr>\n",
       "      <th>29</th>\n",
       "      <td>Silver</td>\n",
       "      <td>Blue Cross and Blue Shield of Texas</td>\n",
       "      <td>33602TX0420004</td>\n",
       "      <td>PPO</td>\n",
       "      <td>Rating Area 25</td>\n",
       "      <td>Archer</td>\n",
       "      <td>302.69</td>\n",
       "      <td>$3,000</td>\n",
       "      <td>Silver</td>\n",
       "      <td>Rating Area 25</td>\n",
       "      <td>1</td>\n",
       "    </tr>\n",
       "    <tr>\n",
       "      <th>...</th>\n",
       "      <td>...</td>\n",
       "      <td>...</td>\n",
       "      <td>...</td>\n",
       "      <td>...</td>\n",
       "      <td>...</td>\n",
       "      <td>...</td>\n",
       "      <td>...</td>\n",
       "      <td>...</td>\n",
       "      <td>...</td>\n",
       "      <td>...</td>\n",
       "      <td>...</td>\n",
       "    </tr>\n",
       "    <tr>\n",
       "      <th>2669</th>\n",
       "      <td>Silver</td>\n",
       "      <td>Blue Cross and Blue Shield of Texas</td>\n",
       "      <td>33602TX0420004</td>\n",
       "      <td>PPO</td>\n",
       "      <td>Rating Area 26</td>\n",
       "      <td>Wood</td>\n",
       "      <td>279.40</td>\n",
       "      <td>$3,000</td>\n",
       "      <td>Silver</td>\n",
       "      <td>Rating Area 26</td>\n",
       "      <td>1</td>\n",
       "    </tr>\n",
       "    <tr>\n",
       "      <th>2670</th>\n",
       "      <td>Silver</td>\n",
       "      <td>Blue Cross and Blue Shield of Texas</td>\n",
       "      <td>33602TX0440003</td>\n",
       "      <td>PPO</td>\n",
       "      <td>Rating Area 26</td>\n",
       "      <td>Wood</td>\n",
       "      <td>270.66</td>\n",
       "      <td>$4,500</td>\n",
       "      <td>Silver</td>\n",
       "      <td>Rating Area 26</td>\n",
       "      <td>1</td>\n",
       "    </tr>\n",
       "    <tr>\n",
       "      <th>2671</th>\n",
       "      <td>Silver</td>\n",
       "      <td>Blue Cross and Blue Shield of Texas</td>\n",
       "      <td>33602TX0440004</td>\n",
       "      <td>PPO</td>\n",
       "      <td>Rating Area 26</td>\n",
       "      <td>Wood</td>\n",
       "      <td>260.02</td>\n",
       "      <td>$6,250</td>\n",
       "      <td>Silver</td>\n",
       "      <td>Rating Area 26</td>\n",
       "      <td>1</td>\n",
       "    </tr>\n",
       "    <tr>\n",
       "      <th>2672</th>\n",
       "      <td>Silver</td>\n",
       "      <td>Blue Cross and Blue Shield of Texas</td>\n",
       "      <td>33602TX0460085</td>\n",
       "      <td>HMO</td>\n",
       "      <td>Rating Area 26</td>\n",
       "      <td>Wood</td>\n",
       "      <td>203.34</td>\n",
       "      <td>$6,000</td>\n",
       "      <td>Silver</td>\n",
       "      <td>Rating Area 26</td>\n",
       "      <td>1</td>\n",
       "    </tr>\n",
       "    <tr>\n",
       "      <th>2673</th>\n",
       "      <td>Silver</td>\n",
       "      <td>Blue Cross and Blue Shield of Texas</td>\n",
       "      <td>33602TX0460110</td>\n",
       "      <td>HMO</td>\n",
       "      <td>Rating Area 26</td>\n",
       "      <td>Wood</td>\n",
       "      <td>211.72</td>\n",
       "      <td>$3,000</td>\n",
       "      <td>Silver</td>\n",
       "      <td>Rating Area 26</td>\n",
       "      <td>1</td>\n",
       "    </tr>\n",
       "    <tr>\n",
       "      <th>2674</th>\n",
       "      <td>Silver</td>\n",
       "      <td>FirstCare Health Plans</td>\n",
       "      <td>26539TX0140003</td>\n",
       "      <td>HMO</td>\n",
       "      <td>Rating Area 26</td>\n",
       "      <td>Yoakum</td>\n",
       "      <td>215.74</td>\n",
       "      <td>$2,000</td>\n",
       "      <td>Silver</td>\n",
       "      <td>Rating Area 26</td>\n",
       "      <td>2</td>\n",
       "    </tr>\n",
       "    <tr>\n",
       "      <th>2675</th>\n",
       "      <td>Silver</td>\n",
       "      <td>Blue Cross and Blue Shield of Texas</td>\n",
       "      <td>33602TX0420003</td>\n",
       "      <td>PPO</td>\n",
       "      <td>Rating Area 26</td>\n",
       "      <td>Yoakum</td>\n",
       "      <td>267.73</td>\n",
       "      <td>$6,000</td>\n",
       "      <td>Silver</td>\n",
       "      <td>Rating Area 26</td>\n",
       "      <td>2</td>\n",
       "    </tr>\n",
       "    <tr>\n",
       "      <th>2676</th>\n",
       "      <td>Silver</td>\n",
       "      <td>Blue Cross and Blue Shield of Texas</td>\n",
       "      <td>33602TX0420004</td>\n",
       "      <td>PPO</td>\n",
       "      <td>Rating Area 26</td>\n",
       "      <td>Yoakum</td>\n",
       "      <td>279.40</td>\n",
       "      <td>$3,000</td>\n",
       "      <td>Silver</td>\n",
       "      <td>Rating Area 26</td>\n",
       "      <td>2</td>\n",
       "    </tr>\n",
       "    <tr>\n",
       "      <th>2677</th>\n",
       "      <td>Silver</td>\n",
       "      <td>Blue Cross and Blue Shield of Texas</td>\n",
       "      <td>33602TX0440003</td>\n",
       "      <td>PPO</td>\n",
       "      <td>Rating Area 26</td>\n",
       "      <td>Yoakum</td>\n",
       "      <td>270.66</td>\n",
       "      <td>$4,500</td>\n",
       "      <td>Silver</td>\n",
       "      <td>Rating Area 26</td>\n",
       "      <td>2</td>\n",
       "    </tr>\n",
       "    <tr>\n",
       "      <th>2678</th>\n",
       "      <td>Silver</td>\n",
       "      <td>Blue Cross and Blue Shield of Texas</td>\n",
       "      <td>33602TX0440004</td>\n",
       "      <td>PPO</td>\n",
       "      <td>Rating Area 26</td>\n",
       "      <td>Yoakum</td>\n",
       "      <td>260.02</td>\n",
       "      <td>$6,250</td>\n",
       "      <td>Silver</td>\n",
       "      <td>Rating Area 26</td>\n",
       "      <td>2</td>\n",
       "    </tr>\n",
       "    <tr>\n",
       "      <th>2679</th>\n",
       "      <td>Silver</td>\n",
       "      <td>Blue Cross and Blue Shield of Texas</td>\n",
       "      <td>33602TX0460085</td>\n",
       "      <td>HMO</td>\n",
       "      <td>Rating Area 26</td>\n",
       "      <td>Yoakum</td>\n",
       "      <td>203.34</td>\n",
       "      <td>$6,000</td>\n",
       "      <td>Silver</td>\n",
       "      <td>Rating Area 26</td>\n",
       "      <td>2</td>\n",
       "    </tr>\n",
       "    <tr>\n",
       "      <th>2680</th>\n",
       "      <td>Silver</td>\n",
       "      <td>Blue Cross and Blue Shield of Texas</td>\n",
       "      <td>33602TX0460110</td>\n",
       "      <td>HMO</td>\n",
       "      <td>Rating Area 26</td>\n",
       "      <td>Yoakum</td>\n",
       "      <td>211.72</td>\n",
       "      <td>$3,000</td>\n",
       "      <td>Silver</td>\n",
       "      <td>Rating Area 26</td>\n",
       "      <td>2</td>\n",
       "    </tr>\n",
       "    <tr>\n",
       "      <th>2681</th>\n",
       "      <td>Silver</td>\n",
       "      <td>Blue Cross and Blue Shield of Texas</td>\n",
       "      <td>33602TX0420003</td>\n",
       "      <td>PPO</td>\n",
       "      <td>Rating Area 26</td>\n",
       "      <td>Young</td>\n",
       "      <td>267.73</td>\n",
       "      <td>$6,000</td>\n",
       "      <td>Silver</td>\n",
       "      <td>Rating Area 26</td>\n",
       "      <td>1</td>\n",
       "    </tr>\n",
       "    <tr>\n",
       "      <th>2682</th>\n",
       "      <td>Silver</td>\n",
       "      <td>Blue Cross and Blue Shield of Texas</td>\n",
       "      <td>33602TX0420004</td>\n",
       "      <td>PPO</td>\n",
       "      <td>Rating Area 26</td>\n",
       "      <td>Young</td>\n",
       "      <td>279.40</td>\n",
       "      <td>$3,000</td>\n",
       "      <td>Silver</td>\n",
       "      <td>Rating Area 26</td>\n",
       "      <td>1</td>\n",
       "    </tr>\n",
       "    <tr>\n",
       "      <th>2683</th>\n",
       "      <td>Silver</td>\n",
       "      <td>Blue Cross and Blue Shield of Texas</td>\n",
       "      <td>33602TX0440003</td>\n",
       "      <td>PPO</td>\n",
       "      <td>Rating Area 26</td>\n",
       "      <td>Young</td>\n",
       "      <td>270.66</td>\n",
       "      <td>$4,500</td>\n",
       "      <td>Silver</td>\n",
       "      <td>Rating Area 26</td>\n",
       "      <td>1</td>\n",
       "    </tr>\n",
       "    <tr>\n",
       "      <th>2684</th>\n",
       "      <td>Silver</td>\n",
       "      <td>Blue Cross and Blue Shield of Texas</td>\n",
       "      <td>33602TX0440004</td>\n",
       "      <td>PPO</td>\n",
       "      <td>Rating Area 26</td>\n",
       "      <td>Young</td>\n",
       "      <td>260.02</td>\n",
       "      <td>$6,250</td>\n",
       "      <td>Silver</td>\n",
       "      <td>Rating Area 26</td>\n",
       "      <td>1</td>\n",
       "    </tr>\n",
       "    <tr>\n",
       "      <th>2685</th>\n",
       "      <td>Silver</td>\n",
       "      <td>Blue Cross and Blue Shield of Texas</td>\n",
       "      <td>33602TX0460085</td>\n",
       "      <td>HMO</td>\n",
       "      <td>Rating Area 26</td>\n",
       "      <td>Young</td>\n",
       "      <td>203.34</td>\n",
       "      <td>$6,000</td>\n",
       "      <td>Silver</td>\n",
       "      <td>Rating Area 26</td>\n",
       "      <td>1</td>\n",
       "    </tr>\n",
       "    <tr>\n",
       "      <th>2686</th>\n",
       "      <td>Silver</td>\n",
       "      <td>Blue Cross and Blue Shield of Texas</td>\n",
       "      <td>33602TX0460110</td>\n",
       "      <td>HMO</td>\n",
       "      <td>Rating Area 26</td>\n",
       "      <td>Young</td>\n",
       "      <td>211.72</td>\n",
       "      <td>$3,000</td>\n",
       "      <td>Silver</td>\n",
       "      <td>Rating Area 26</td>\n",
       "      <td>1</td>\n",
       "    </tr>\n",
       "    <tr>\n",
       "      <th>2687</th>\n",
       "      <td>Silver</td>\n",
       "      <td>Blue Cross and Blue Shield of Texas</td>\n",
       "      <td>33602TX0420003</td>\n",
       "      <td>PPO</td>\n",
       "      <td>Rating Area 26</td>\n",
       "      <td>Zapata</td>\n",
       "      <td>267.73</td>\n",
       "      <td>$6,000</td>\n",
       "      <td>Silver</td>\n",
       "      <td>Rating Area 26</td>\n",
       "      <td>1</td>\n",
       "    </tr>\n",
       "    <tr>\n",
       "      <th>2688</th>\n",
       "      <td>Silver</td>\n",
       "      <td>Blue Cross and Blue Shield of Texas</td>\n",
       "      <td>33602TX0420004</td>\n",
       "      <td>PPO</td>\n",
       "      <td>Rating Area 26</td>\n",
       "      <td>Zapata</td>\n",
       "      <td>279.40</td>\n",
       "      <td>$3,000</td>\n",
       "      <td>Silver</td>\n",
       "      <td>Rating Area 26</td>\n",
       "      <td>1</td>\n",
       "    </tr>\n",
       "    <tr>\n",
       "      <th>2689</th>\n",
       "      <td>Silver</td>\n",
       "      <td>Blue Cross and Blue Shield of Texas</td>\n",
       "      <td>33602TX0440003</td>\n",
       "      <td>PPO</td>\n",
       "      <td>Rating Area 26</td>\n",
       "      <td>Zapata</td>\n",
       "      <td>270.66</td>\n",
       "      <td>$4,500</td>\n",
       "      <td>Silver</td>\n",
       "      <td>Rating Area 26</td>\n",
       "      <td>1</td>\n",
       "    </tr>\n",
       "    <tr>\n",
       "      <th>2690</th>\n",
       "      <td>Silver</td>\n",
       "      <td>Blue Cross and Blue Shield of Texas</td>\n",
       "      <td>33602TX0440004</td>\n",
       "      <td>PPO</td>\n",
       "      <td>Rating Area 26</td>\n",
       "      <td>Zapata</td>\n",
       "      <td>260.02</td>\n",
       "      <td>$6,250</td>\n",
       "      <td>Silver</td>\n",
       "      <td>Rating Area 26</td>\n",
       "      <td>1</td>\n",
       "    </tr>\n",
       "    <tr>\n",
       "      <th>2691</th>\n",
       "      <td>Silver</td>\n",
       "      <td>Blue Cross and Blue Shield of Texas</td>\n",
       "      <td>33602TX0460085</td>\n",
       "      <td>HMO</td>\n",
       "      <td>Rating Area 26</td>\n",
       "      <td>Zapata</td>\n",
       "      <td>203.34</td>\n",
       "      <td>$6,000</td>\n",
       "      <td>Silver</td>\n",
       "      <td>Rating Area 26</td>\n",
       "      <td>1</td>\n",
       "    </tr>\n",
       "    <tr>\n",
       "      <th>2692</th>\n",
       "      <td>Silver</td>\n",
       "      <td>Blue Cross and Blue Shield of Texas</td>\n",
       "      <td>33602TX0460110</td>\n",
       "      <td>HMO</td>\n",
       "      <td>Rating Area 26</td>\n",
       "      <td>Zapata</td>\n",
       "      <td>211.72</td>\n",
       "      <td>$3,000</td>\n",
       "      <td>Silver</td>\n",
       "      <td>Rating Area 26</td>\n",
       "      <td>1</td>\n",
       "    </tr>\n",
       "    <tr>\n",
       "      <th>2693</th>\n",
       "      <td>Silver</td>\n",
       "      <td>Blue Cross and Blue Shield of Texas</td>\n",
       "      <td>33602TX0420003</td>\n",
       "      <td>PPO</td>\n",
       "      <td>Rating Area 26</td>\n",
       "      <td>Zavala</td>\n",
       "      <td>267.73</td>\n",
       "      <td>$6,000</td>\n",
       "      <td>Silver</td>\n",
       "      <td>Rating Area 26</td>\n",
       "      <td>1</td>\n",
       "    </tr>\n",
       "    <tr>\n",
       "      <th>2694</th>\n",
       "      <td>Silver</td>\n",
       "      <td>Blue Cross and Blue Shield of Texas</td>\n",
       "      <td>33602TX0420004</td>\n",
       "      <td>PPO</td>\n",
       "      <td>Rating Area 26</td>\n",
       "      <td>Zavala</td>\n",
       "      <td>279.40</td>\n",
       "      <td>$3,000</td>\n",
       "      <td>Silver</td>\n",
       "      <td>Rating Area 26</td>\n",
       "      <td>1</td>\n",
       "    </tr>\n",
       "    <tr>\n",
       "      <th>2695</th>\n",
       "      <td>Silver</td>\n",
       "      <td>Blue Cross and Blue Shield of Texas</td>\n",
       "      <td>33602TX0440003</td>\n",
       "      <td>PPO</td>\n",
       "      <td>Rating Area 26</td>\n",
       "      <td>Zavala</td>\n",
       "      <td>270.66</td>\n",
       "      <td>$4,500</td>\n",
       "      <td>Silver</td>\n",
       "      <td>Rating Area 26</td>\n",
       "      <td>1</td>\n",
       "    </tr>\n",
       "    <tr>\n",
       "      <th>2696</th>\n",
       "      <td>Silver</td>\n",
       "      <td>Blue Cross and Blue Shield of Texas</td>\n",
       "      <td>33602TX0440004</td>\n",
       "      <td>PPO</td>\n",
       "      <td>Rating Area 26</td>\n",
       "      <td>Zavala</td>\n",
       "      <td>260.02</td>\n",
       "      <td>$6,250</td>\n",
       "      <td>Silver</td>\n",
       "      <td>Rating Area 26</td>\n",
       "      <td>1</td>\n",
       "    </tr>\n",
       "    <tr>\n",
       "      <th>2697</th>\n",
       "      <td>Silver</td>\n",
       "      <td>Blue Cross and Blue Shield of Texas</td>\n",
       "      <td>33602TX0460085</td>\n",
       "      <td>HMO</td>\n",
       "      <td>Rating Area 26</td>\n",
       "      <td>Zavala</td>\n",
       "      <td>203.34</td>\n",
       "      <td>$6,000</td>\n",
       "      <td>Silver</td>\n",
       "      <td>Rating Area 26</td>\n",
       "      <td>1</td>\n",
       "    </tr>\n",
       "    <tr>\n",
       "      <th>2698</th>\n",
       "      <td>Silver</td>\n",
       "      <td>Blue Cross and Blue Shield of Texas</td>\n",
       "      <td>33602TX0460110</td>\n",
       "      <td>HMO</td>\n",
       "      <td>Rating Area 26</td>\n",
       "      <td>Zavala</td>\n",
       "      <td>211.72</td>\n",
       "      <td>$3,000</td>\n",
       "      <td>Silver</td>\n",
       "      <td>Rating Area 26</td>\n",
       "      <td>1</td>\n",
       "    </tr>\n",
       "  </tbody>\n",
       "</table>\n",
       "<p>2699 rows × 11 columns</p>\n",
       "</div>"
      ],
      "text/plain": [
       "     Metal Level                          Issuer Name  \\\n",
       "0         Silver  Blue Cross and Blue Shield of Texas   \n",
       "1         Silver  Blue Cross and Blue Shield of Texas   \n",
       "2         Silver  Blue Cross and Blue Shield of Texas   \n",
       "3         Silver  Blue Cross and Blue Shield of Texas   \n",
       "4         Silver  Blue Cross and Blue Shield of Texas   \n",
       "5         Silver  Blue Cross and Blue Shield of Texas   \n",
       "6         Silver               FirstCare Health Plans   \n",
       "7         Silver  Blue Cross and Blue Shield of Texas   \n",
       "8         Silver  Blue Cross and Blue Shield of Texas   \n",
       "9         Silver  Blue Cross and Blue Shield of Texas   \n",
       "10        Silver  Blue Cross and Blue Shield of Texas   \n",
       "11        Silver  Blue Cross and Blue Shield of Texas   \n",
       "12        Silver  Blue Cross and Blue Shield of Texas   \n",
       "13        Silver  Blue Cross and Blue Shield of Texas   \n",
       "14        Silver  Blue Cross and Blue Shield of Texas   \n",
       "15        Silver  Blue Cross and Blue Shield of Texas   \n",
       "16        Silver  Blue Cross and Blue Shield of Texas   \n",
       "17        Silver  Blue Cross and Blue Shield of Texas   \n",
       "18        Silver  Blue Cross and Blue Shield of Texas   \n",
       "19        Silver                         Humana, Inc.   \n",
       "20        Silver  Blue Cross and Blue Shield of Texas   \n",
       "21        Silver  Blue Cross and Blue Shield of Texas   \n",
       "22        Silver  Blue Cross and Blue Shield of Texas   \n",
       "23        Silver  Blue Cross and Blue Shield of Texas   \n",
       "24        Silver  Blue Cross and Blue Shield of Texas   \n",
       "25        Silver  Blue Cross and Blue Shield of Texas   \n",
       "26        Silver                         Humana, Inc.   \n",
       "27        Silver                         Humana, Inc.   \n",
       "28        Silver  Blue Cross and Blue Shield of Texas   \n",
       "29        Silver  Blue Cross and Blue Shield of Texas   \n",
       "...          ...                                  ...   \n",
       "2669      Silver  Blue Cross and Blue Shield of Texas   \n",
       "2670      Silver  Blue Cross and Blue Shield of Texas   \n",
       "2671      Silver  Blue Cross and Blue Shield of Texas   \n",
       "2672      Silver  Blue Cross and Blue Shield of Texas   \n",
       "2673      Silver  Blue Cross and Blue Shield of Texas   \n",
       "2674      Silver               FirstCare Health Plans   \n",
       "2675      Silver  Blue Cross and Blue Shield of Texas   \n",
       "2676      Silver  Blue Cross and Blue Shield of Texas   \n",
       "2677      Silver  Blue Cross and Blue Shield of Texas   \n",
       "2678      Silver  Blue Cross and Blue Shield of Texas   \n",
       "2679      Silver  Blue Cross and Blue Shield of Texas   \n",
       "2680      Silver  Blue Cross and Blue Shield of Texas   \n",
       "2681      Silver  Blue Cross and Blue Shield of Texas   \n",
       "2682      Silver  Blue Cross and Blue Shield of Texas   \n",
       "2683      Silver  Blue Cross and Blue Shield of Texas   \n",
       "2684      Silver  Blue Cross and Blue Shield of Texas   \n",
       "2685      Silver  Blue Cross and Blue Shield of Texas   \n",
       "2686      Silver  Blue Cross and Blue Shield of Texas   \n",
       "2687      Silver  Blue Cross and Blue Shield of Texas   \n",
       "2688      Silver  Blue Cross and Blue Shield of Texas   \n",
       "2689      Silver  Blue Cross and Blue Shield of Texas   \n",
       "2690      Silver  Blue Cross and Blue Shield of Texas   \n",
       "2691      Silver  Blue Cross and Blue Shield of Texas   \n",
       "2692      Silver  Blue Cross and Blue Shield of Texas   \n",
       "2693      Silver  Blue Cross and Blue Shield of Texas   \n",
       "2694      Silver  Blue Cross and Blue Shield of Texas   \n",
       "2695      Silver  Blue Cross and Blue Shield of Texas   \n",
       "2696      Silver  Blue Cross and Blue Shield of Texas   \n",
       "2697      Silver  Blue Cross and Blue Shield of Texas   \n",
       "2698      Silver  Blue Cross and Blue Shield of Texas   \n",
       "\n",
       "     Plan ID (standard component) Plan Type     Rating Area    County  \\\n",
       "0                  33602TX0420003       PPO  Rating Area 26  Anderson   \n",
       "1                  33602TX0420004       PPO  Rating Area 26  Anderson   \n",
       "2                  33602TX0440003       PPO  Rating Area 26  Anderson   \n",
       "3                  33602TX0440004       PPO  Rating Area 26  Anderson   \n",
       "4                  33602TX0460085       HMO  Rating Area 26  Anderson   \n",
       "5                  33602TX0460110       HMO  Rating Area 26  Anderson   \n",
       "6                  26539TX0140003       HMO  Rating Area 26   Andrews   \n",
       "7                  33602TX0420003       PPO  Rating Area 26   Andrews   \n",
       "8                  33602TX0420004       PPO  Rating Area 26   Andrews   \n",
       "9                  33602TX0440003       PPO  Rating Area 26   Andrews   \n",
       "10                 33602TX0440004       PPO  Rating Area 26   Andrews   \n",
       "11                 33602TX0460085       HMO  Rating Area 26   Andrews   \n",
       "12                 33602TX0460110       HMO  Rating Area 26   Andrews   \n",
       "13                 33602TX0420003       PPO  Rating Area 26  Angelina   \n",
       "14                 33602TX0420004       PPO  Rating Area 26  Angelina   \n",
       "15                 33602TX0440003       PPO  Rating Area 26  Angelina   \n",
       "16                 33602TX0440004       PPO  Rating Area 26  Angelina   \n",
       "17                 33602TX0460085       HMO  Rating Area 26  Angelina   \n",
       "18                 33602TX0460110       HMO  Rating Area 26  Angelina   \n",
       "19                 32673TX0630004       HMO   Rating Area 7   Aransas   \n",
       "20                 33602TX0420003       PPO   Rating Area 7   Aransas   \n",
       "21                 33602TX0420004       PPO   Rating Area 7   Aransas   \n",
       "22                 33602TX0440003       PPO   Rating Area 7   Aransas   \n",
       "23                 33602TX0440004       PPO   Rating Area 7   Aransas   \n",
       "24                 33602TX0460066       HMO   Rating Area 7   Aransas   \n",
       "25                 33602TX0460091       HMO   Rating Area 7   Aransas   \n",
       "26                 63141TX0750011       PPO   Rating Area 7   Aransas   \n",
       "27                 63141TX0750012       PPO   Rating Area 7   Aransas   \n",
       "28                 33602TX0420003       PPO  Rating Area 25    Archer   \n",
       "29                 33602TX0420004       PPO  Rating Area 25    Archer   \n",
       "...                           ...       ...             ...       ...   \n",
       "2669               33602TX0420004       PPO  Rating Area 26      Wood   \n",
       "2670               33602TX0440003       PPO  Rating Area 26      Wood   \n",
       "2671               33602TX0440004       PPO  Rating Area 26      Wood   \n",
       "2672               33602TX0460085       HMO  Rating Area 26      Wood   \n",
       "2673               33602TX0460110       HMO  Rating Area 26      Wood   \n",
       "2674               26539TX0140003       HMO  Rating Area 26    Yoakum   \n",
       "2675               33602TX0420003       PPO  Rating Area 26    Yoakum   \n",
       "2676               33602TX0420004       PPO  Rating Area 26    Yoakum   \n",
       "2677               33602TX0440003       PPO  Rating Area 26    Yoakum   \n",
       "2678               33602TX0440004       PPO  Rating Area 26    Yoakum   \n",
       "2679               33602TX0460085       HMO  Rating Area 26    Yoakum   \n",
       "2680               33602TX0460110       HMO  Rating Area 26    Yoakum   \n",
       "2681               33602TX0420003       PPO  Rating Area 26     Young   \n",
       "2682               33602TX0420004       PPO  Rating Area 26     Young   \n",
       "2683               33602TX0440003       PPO  Rating Area 26     Young   \n",
       "2684               33602TX0440004       PPO  Rating Area 26     Young   \n",
       "2685               33602TX0460085       HMO  Rating Area 26     Young   \n",
       "2686               33602TX0460110       HMO  Rating Area 26     Young   \n",
       "2687               33602TX0420003       PPO  Rating Area 26    Zapata   \n",
       "2688               33602TX0420004       PPO  Rating Area 26    Zapata   \n",
       "2689               33602TX0440003       PPO  Rating Area 26    Zapata   \n",
       "2690               33602TX0440004       PPO  Rating Area 26    Zapata   \n",
       "2691               33602TX0460085       HMO  Rating Area 26    Zapata   \n",
       "2692               33602TX0460110       HMO  Rating Area 26    Zapata   \n",
       "2693               33602TX0420003       PPO  Rating Area 26    Zavala   \n",
       "2694               33602TX0420004       PPO  Rating Area 26    Zavala   \n",
       "2695               33602TX0440003       PPO  Rating Area 26    Zavala   \n",
       "2696               33602TX0440004       PPO  Rating Area 26    Zavala   \n",
       "2697               33602TX0460085       HMO  Rating Area 26    Zavala   \n",
       "2698               33602TX0460110       HMO  Rating Area 26    Zavala   \n",
       "\n",
       "      Premium Adult Individual Age 27 Medical Deductible-individual-standard  \\\n",
       "0                              267.73                                 $6,000   \n",
       "1                              279.40                                 $3,000   \n",
       "2                              270.66                                 $4,500   \n",
       "3                              260.02                                 $6,250   \n",
       "4                              203.34                                 $6,000   \n",
       "5                              211.72                                 $3,000   \n",
       "6                              215.74                                 $2,000   \n",
       "7                              267.73                                 $6,000   \n",
       "8                              279.40                                 $3,000   \n",
       "9                              270.66                                 $4,500   \n",
       "10                             260.02                                 $6,250   \n",
       "11                             203.34                                 $6,000   \n",
       "12                             211.72                                 $3,000   \n",
       "13                             267.73                                 $6,000   \n",
       "14                             279.40                                 $3,000   \n",
       "15                             270.66                                 $4,500   \n",
       "16                             260.02                                 $6,250   \n",
       "17                             203.34                                 $6,000   \n",
       "18                             211.72                                 $3,000   \n",
       "19                             212.27                                 $4,600   \n",
       "20                             267.42                                 $6,000   \n",
       "21                             279.08                                 $3,000   \n",
       "22                             270.35                                 $4,500   \n",
       "23                             259.72                                 $6,250   \n",
       "24                             201.03                                 $6,000   \n",
       "25                             209.31                                 $3,000   \n",
       "26                             227.92                                 $4,250   \n",
       "27                             224.07                                 $3,650   \n",
       "28                             290.04                                 $6,000   \n",
       "29                             302.69                                 $3,000   \n",
       "...                               ...                                    ...   \n",
       "2669                           279.40                                 $3,000   \n",
       "2670                           270.66                                 $4,500   \n",
       "2671                           260.02                                 $6,250   \n",
       "2672                           203.34                                 $6,000   \n",
       "2673                           211.72                                 $3,000   \n",
       "2674                           215.74                                 $2,000   \n",
       "2675                           267.73                                 $6,000   \n",
       "2676                           279.40                                 $3,000   \n",
       "2677                           270.66                                 $4,500   \n",
       "2678                           260.02                                 $6,250   \n",
       "2679                           203.34                                 $6,000   \n",
       "2680                           211.72                                 $3,000   \n",
       "2681                           267.73                                 $6,000   \n",
       "2682                           279.40                                 $3,000   \n",
       "2683                           270.66                                 $4,500   \n",
       "2684                           260.02                                 $6,250   \n",
       "2685                           203.34                                 $6,000   \n",
       "2686                           211.72                                 $3,000   \n",
       "2687                           267.73                                 $6,000   \n",
       "2688                           279.40                                 $3,000   \n",
       "2689                           270.66                                 $4,500   \n",
       "2690                           260.02                                 $6,250   \n",
       "2691                           203.34                                 $6,000   \n",
       "2692                           211.72                                 $3,000   \n",
       "2693                           267.73                                 $6,000   \n",
       "2694                           279.40                                 $3,000   \n",
       "2695                           270.66                                 $4,500   \n",
       "2696                           260.02                                 $6,250   \n",
       "2697                           203.34                                 $6,000   \n",
       "2698                           211.72                                 $3,000   \n",
       "\n",
       "     Metal Level_y   Rating Area_y  Number Of Insurers  \n",
       "0           Silver  Rating Area 26                   1  \n",
       "1           Silver  Rating Area 26                   1  \n",
       "2           Silver  Rating Area 26                   1  \n",
       "3           Silver  Rating Area 26                   1  \n",
       "4           Silver  Rating Area 26                   1  \n",
       "5           Silver  Rating Area 26                   1  \n",
       "6           Silver  Rating Area 26                   2  \n",
       "7           Silver  Rating Area 26                   2  \n",
       "8           Silver  Rating Area 26                   2  \n",
       "9           Silver  Rating Area 26                   2  \n",
       "10          Silver  Rating Area 26                   2  \n",
       "11          Silver  Rating Area 26                   2  \n",
       "12          Silver  Rating Area 26                   2  \n",
       "13          Silver  Rating Area 26                   1  \n",
       "14          Silver  Rating Area 26                   1  \n",
       "15          Silver  Rating Area 26                   1  \n",
       "16          Silver  Rating Area 26                   1  \n",
       "17          Silver  Rating Area 26                   1  \n",
       "18          Silver  Rating Area 26                   1  \n",
       "19          Silver   Rating Area 7                   2  \n",
       "20          Silver   Rating Area 7                   2  \n",
       "21          Silver   Rating Area 7                   2  \n",
       "22          Silver   Rating Area 7                   2  \n",
       "23          Silver   Rating Area 7                   2  \n",
       "24          Silver   Rating Area 7                   2  \n",
       "25          Silver   Rating Area 7                   2  \n",
       "26          Silver   Rating Area 7                   2  \n",
       "27          Silver   Rating Area 7                   2  \n",
       "28          Silver  Rating Area 25                   1  \n",
       "29          Silver  Rating Area 25                   1  \n",
       "...            ...             ...                 ...  \n",
       "2669        Silver  Rating Area 26                   1  \n",
       "2670        Silver  Rating Area 26                   1  \n",
       "2671        Silver  Rating Area 26                   1  \n",
       "2672        Silver  Rating Area 26                   1  \n",
       "2673        Silver  Rating Area 26                   1  \n",
       "2674        Silver  Rating Area 26                   2  \n",
       "2675        Silver  Rating Area 26                   2  \n",
       "2676        Silver  Rating Area 26                   2  \n",
       "2677        Silver  Rating Area 26                   2  \n",
       "2678        Silver  Rating Area 26                   2  \n",
       "2679        Silver  Rating Area 26                   2  \n",
       "2680        Silver  Rating Area 26                   2  \n",
       "2681        Silver  Rating Area 26                   1  \n",
       "2682        Silver  Rating Area 26                   1  \n",
       "2683        Silver  Rating Area 26                   1  \n",
       "2684        Silver  Rating Area 26                   1  \n",
       "2685        Silver  Rating Area 26                   1  \n",
       "2686        Silver  Rating Area 26                   1  \n",
       "2687        Silver  Rating Area 26                   1  \n",
       "2688        Silver  Rating Area 26                   1  \n",
       "2689        Silver  Rating Area 26                   1  \n",
       "2690        Silver  Rating Area 26                   1  \n",
       "2691        Silver  Rating Area 26                   1  \n",
       "2692        Silver  Rating Area 26                   1  \n",
       "2693        Silver  Rating Area 26                   1  \n",
       "2694        Silver  Rating Area 26                   1  \n",
       "2695        Silver  Rating Area 26                   1  \n",
       "2696        Silver  Rating Area 26                   1  \n",
       "2697        Silver  Rating Area 26                   1  \n",
       "2698        Silver  Rating Area 26                   1  \n",
       "\n",
       "[2699 rows x 11 columns]"
      ]
     },
     "execution_count": 25,
     "metadata": {},
     "output_type": "execute_result"
    }
   ],
   "source": [
    "DependentSilver.replace(\"Dewitt\", \"De Witt\")\n",
    "DependentSilver.replace(\"Mcculloch\", \"McCulloch\")\n",
    "DependentSilver.replace(\"Mclennan\", \"McLennan\")\n",
    "DependentSilver.replace(\"Mcmullen\", \"McMullen\")"
   ]
  },
  {
   "cell_type": "code",
   "execution_count": 26,
   "metadata": {
    "collapsed": false
   },
   "outputs": [],
   "source": [
    "SilverModelDF=pd.merge(DependentSilver, Edu)\n",
    "SilverModelDF=pd.merge(SilverModelDF, Uninsured)\n",
    "SilverModelDF=pd.merge(SilverModelDF, Employment)\n",
    "SilverModelDF=pd.merge(SilverModelDF, HealthRankings)\n",
    "SilverModelDF=pd.merge(SilverModelDF, HealthRankings2)"
   ]
  },
  {
   "cell_type": "code",
   "execution_count": 27,
   "metadata": {
    "collapsed": false
   },
   "outputs": [],
   "source": [
    "SilverModelDF[\"Medical Deductible-individual-standard\"]=SilverModelDF[\"Medical Deductible-individual-standard\"].str.replace(\",\", \"\")\n",
    "SilverModelDF[\"Medical Deductible-individual-standard\"]=SilverModelDF[\"Medical Deductible-individual-standard\"].str.replace(\"$\", \"\")\n",
    "SilverModelDF[\"Medical Deductible-individual-standard\"]=SilverModelDF[\"Medical Deductible-individual-standard\"].astype(int)\n"
   ]
  },
  {
   "cell_type": "code",
   "execution_count": 28,
   "metadata": {
    "collapsed": false
   },
   "outputs": [
    {
     "ename": "NameError",
     "evalue": "name 'PresenceInsurerModel' is not defined",
     "output_type": "error",
     "traceback": [
      "\u001b[0;31m---------------------------------------------------------------------------\u001b[0m",
      "\u001b[0;31mNameError\u001b[0m                                 Traceback (most recent call last)",
      "\u001b[0;32m<ipython-input-28-d6e987a7b543>\u001b[0m in \u001b[0;36m<module>\u001b[0;34m()\u001b[0m\n\u001b[0;32m----> 1\u001b[0;31m \u001b[0mlen\u001b[0m\u001b[1;33m(\u001b[0m\u001b[0mset\u001b[0m\u001b[1;33m(\u001b[0m\u001b[0mPresenceInsurerModel\u001b[0m\u001b[1;33m[\u001b[0m\u001b[1;34m\"County\"\u001b[0m\u001b[1;33m]\u001b[0m\u001b[1;33m)\u001b[0m\u001b[1;33m.\u001b[0m\u001b[0mdifference\u001b[0m\u001b[1;33m(\u001b[0m\u001b[0mset\u001b[0m\u001b[1;33m(\u001b[0m\u001b[0mUniqueFacilities\u001b[0m\u001b[1;33m[\u001b[0m\u001b[1;34m\"Counties\"\u001b[0m\u001b[1;33m]\u001b[0m\u001b[1;33m)\u001b[0m\u001b[1;33m)\u001b[0m\u001b[1;33m)\u001b[0m\u001b[1;33m\u001b[0m\u001b[0m\n\u001b[0m",
      "\u001b[0;31mNameError\u001b[0m: name 'PresenceInsurerModel' is not defined"
     ]
    }
   ],
   "source": [
    "len(set(PresenceInsurerModel[\"County\"]).difference(set(UniqueFacilities[\"Counties\"])))"
   ]
  },
  {
   "cell_type": "code",
   "execution_count": null,
   "metadata": {
    "collapsed": false
   },
   "outputs": [],
   "source": [
    "PresenceInsurerModel.columns"
   ]
  },
  {
   "cell_type": "code",
   "execution_count": null,
   "metadata": {
    "collapsed": false
   },
   "outputs": [],
   "source": [
    "PresenceInsurerMerge=PresenceInsurerMerge.replace(\"De Witt\", \"DeWitt\")\n",
    "PresenceInsurerMerge=PresenceInsurerMerge.replace(\"Mcculloch\", \"McCulloch\")\n",
    "PresenceInsurerMerge=PresenceInsurerMerge.replace(\"Mcmullen\", \"McMullen\")\n",
    "PresenceInsurerMerge=PresenceInsurerMerge.replace(\"Mclennan\", \"McLennan\")"
   ]
  },
  {
   "cell_type": "code",
   "execution_count": null,
   "metadata": {
    "collapsed": false
   },
   "outputs": [],
   "source": [
    "PresenceInsurerModel=pd.merge(PresenceInsurerMerge, Edu)\n",
    "PresenceInsurerModel=pd.merge(PresenceInsurerModel, Uninsured)\n",
    "PresenceInsurerModel=pd.merge(PresenceInsurerModel, Employment)\n",
    "PresenceInsurerModel=pd.merge(PresenceInsurerModel, HealthRankings)\n",
    "PresenceInsurerModel=pd.merge(PresenceInsurerModel, HealthRankings2)\n",
    "PresenceInsurerModel=pd.merge(PresenceInsurerModel, UniqueFacilities, left_on=\"County\", right_on=\"Counties\", how=\"outer\")\n",
    "PresenceInsurerModel=pd.merge(PresenceInsurerModel, Beds, left_on=\"County\", right_on=\"Counties\", how=\"outer\")"
   ]
  },
  {
   "cell_type": "code",
   "execution_count": null,
   "metadata": {
    "collapsed": true
   },
   "outputs": [],
   "source": [
    "PresenceInsurerModel=PresenceInsurerModel.drop(\"Counties_x\", axis=1)\n",
    "PresenceInsurerModel=PresenceInsurerModel.drop(\"Counties_y\", axis=1)"
   ]
  },
  {
   "cell_type": "code",
   "execution_count": null,
   "metadata": {
    "collapsed": false
   },
   "outputs": [],
   "source": [
    "PresenceInsurerModel=PresenceInsurerModel.rename(columns={\"Plan ID (standard component)\": \"Number Of Plans\", \"Issuer Name\": \"Number Of Insurers\", \"Premium Adult Individual Age 27\": \"Avg Silver Plan Premium\"})"
   ]
  },
  {
   "cell_type": "code",
   "execution_count": null,
   "metadata": {
    "collapsed": false
   },
   "outputs": [],
   "source": [
    "SilverModelDF=SilverModelDF.rename(columns={\"Percent; Estimate; Population 25 years and over - Associate's degree\": \"Percent with Associate's Degree\", \"Medical Deductible-individual-standard\": \"Deductible\", \"Estimate; INCOME AND BENEFITS (IN 2015 INFLATION-ADJUSTED DOLLARS) - Per capita income (dollars)\": \"Per capita income\"})"
   ]
  },
  {
   "cell_type": "code",
   "execution_count": null,
   "metadata": {
    "collapsed": true
   },
   "outputs": [],
   "source": [
    "PresenceInsurerModel=PresenceInsurerModel.rename(columns={\"Percent; Estimate; Population 25 years and over - Associate's degree\": \"Percent with Associate's Degree\", \"Estimate; INCOME AND BENEFITS (IN 2015 INFLATION-ADJUSTED DOLLARS) - Per capita income (dollars)\": \"Per capita income\"})"
   ]
  },
  {
   "cell_type": "code",
   "execution_count": null,
   "metadata": {
    "collapsed": false
   },
   "outputs": [],
   "source": [
    "SilverX=SilverModelDF[[ \"% Hispanic\", \"Average Daily PM2.5\", \"% Rural\", \"Number Of Insurers\", \"% Physically Inactive\", \"% Diabetic\"]]"
   ]
  },
  {
   "cell_type": "code",
   "execution_count": null,
   "metadata": {
    "collapsed": false
   },
   "outputs": [],
   "source": [
    "SilverX = sm.add_constant(SilverX)\n",
    "\n",
    "model=smf.OLS(SilverModelDF[\"Premium Adult Individual Age 27\"], SilverX).fit()\n",
    "\n",
    "model.summary()"
   ]
  },
  {
   "cell_type": "code",
   "execution_count": null,
   "metadata": {
    "collapsed": false
   },
   "outputs": [],
   "source": [
    "#sns.pairplot(SilverModelDF, vars=[\"Premium Adult Individual Age 27\", \"Percent Insured; Estimate; AGE - 18 to 64 years\", \"Percent with Associate's Degree\", \"% African American\", \"Deductible\", \"Per capita income\", \"% Rural\", \"Number Of Insurers\", \"Average Daily PM2.5\" ])"
   ]
  },
  {
   "cell_type": "code",
   "execution_count": null,
   "metadata": {
    "collapsed": false
   },
   "outputs": [],
   "source": [
    "#sns.residplot(SilverX, SilverModelDF[\"Premium Adult Individual Age 27\"])\n",
    "plt.hist(model.resid)"
   ]
  },
  {
   "cell_type": "code",
   "execution_count": null,
   "metadata": {
    "collapsed": false
   },
   "outputs": [],
   "source": [
    "corrmat = SilverModelDF.corr()\n",
    "f, ax = plt.subplots(figsize=(12, 9))\n",
    "sns.heatmap(corrmat, vmax=.8, square=True);"
   ]
  },
  {
   "cell_type": "code",
   "execution_count": null,
   "metadata": {
    "collapsed": false
   },
   "outputs": [],
   "source": [
    "k = 15 #number of variables for heatmap\n",
    "cols = corrmat.nlargest(k, 'Premium Adult Individual Age 27')['Premium Adult Individual Age 27'].index\n",
    "cm = np.corrcoef(SilverModelDF[cols].values.T)\n",
    "sns.set(font_scale=1.25)\n",
    "hm = sns.heatmap(cm, cbar=True, annot=True, square=True, fmt='.2f', annot_kws={'size': 10}, yticklabels=cols.values, xticklabels=cols.values)\n",
    "plt.show()"
   ]
  },
  {
   "cell_type": "code",
   "execution_count": null,
   "metadata": {
    "collapsed": true
   },
   "outputs": [],
   "source": [
    "Lower250=SilverModelDF[SilverModelDF[\"Premium Adult Individual Age 27\"]<250]\n",
    "Over250=SilverModelDF[SilverModelDF[\"Premium Adult Individual Age 27\"]>250]"
   ]
  },
  {
   "cell_type": "code",
   "execution_count": null,
   "metadata": {
    "collapsed": true
   },
   "outputs": [],
   "source": [
    "Lower250X=Lower250[[\"Percent Insured; Estimate; AGE - 18 to 64 years\", \"Percent with Associate's Degree\", \"% African American\", \"Deductible\", \"Per capita income\", \"% Rural\", \"Number Of Insurers\", \"% Physically Inactive\", \"Food Environment Index\"]]\n",
    "Over250X=Over250[[\"Percent Insured; Estimate; AGE - 18 to 64 years\", \"Percent with Associate's Degree\", \"% African American\", \"Deductible\", \"Per capita income\", \"% Rural\", \"Number Of Insurers\", \"Average Daily PM2.5\", \"% Physically Inactive\"]]"
   ]
  },
  {
   "cell_type": "code",
   "execution_count": null,
   "metadata": {
    "collapsed": false
   },
   "outputs": [],
   "source": [
    "Lower250X=sm.add_constant(Lower250X)\n",
    "model=smf.OLS(Lower250[\"Premium Adult Individual Age 27\"], Lower250X).fit()\n",
    "model.summary()"
   ]
  },
  {
   "cell_type": "code",
   "execution_count": null,
   "metadata": {
    "collapsed": false
   },
   "outputs": [],
   "source": [
    "Over250X=sm.add_constant(Over250X)\n",
    "model=smf.OLS(Over250[\"Premium Adult Individual Age 27\"], Over250X).fit()\n",
    "model.summary()"
   ]
  },
  {
   "cell_type": "code",
   "execution_count": null,
   "metadata": {
    "collapsed": false
   },
   "outputs": [],
   "source": [
    "corrmatLow250 = Lower250.corr()\n",
    "f, ax = plt.subplots(figsize=(12, 9))\n",
    "sns.heatmap(corrmatLow250, vmax=.8, square=True);"
   ]
  },
  {
   "cell_type": "code",
   "execution_count": null,
   "metadata": {
    "collapsed": false
   },
   "outputs": [],
   "source": [
    "k = 10 #number of variables for heatmap\n",
    "cols = corrmatLow250.nlargest(k, 'Premium Adult Individual Age 27')['Premium Adult Individual Age 27'].index\n",
    "cm = np.corrcoef(Lower250[cols].values.T)\n",
    "sns.set(font_scale=1.25)\n",
    "hm = sns.heatmap(cm, cbar=True, annot=True, square=True, fmt='.2f', annot_kws={'size': 10}, yticklabels=cols.values, xticklabels=cols.values)\n",
    "plt.show()"
   ]
  },
  {
   "cell_type": "code",
   "execution_count": null,
   "metadata": {
    "collapsed": false
   },
   "outputs": [],
   "source": [
    "corrmatOver250 = Over250.corr()\n",
    "f, ax = plt.subplots(figsize=(12, 9))\n",
    "sns.heatmap(corrmatLow250, vmax=.8, square=True);"
   ]
  },
  {
   "cell_type": "code",
   "execution_count": null,
   "metadata": {
    "collapsed": false
   },
   "outputs": [],
   "source": [
    "k = 10 #number of variables for heatmap\n",
    "cols = corrmatOver250.nlargest(k, 'Premium Adult Individual Age 27')['Premium Adult Individual Age 27'].index\n",
    "cm = np.corrcoef(Over250[cols].values.T)\n",
    "sns.set(font_scale=1.25)\n",
    "hm = sns.heatmap(cm, cbar=True, annot=True, square=True, fmt='.2f', annot_kws={'size': 10}, yticklabels=cols.values, xticklabels=cols.values)\n",
    "plt.show()"
   ]
  },
  {
   "cell_type": "code",
   "execution_count": null,
   "metadata": {
    "collapsed": false
   },
   "outputs": [],
   "source": [
    "sns.distplot(Lower250[\"Premium Adult Individual Age 27\"])"
   ]
  },
  {
   "cell_type": "code",
   "execution_count": null,
   "metadata": {
    "collapsed": false
   },
   "outputs": [],
   "source": [
    "sns.distplot(Over250[\"Premium Adult Individual Age 27\"])"
   ]
  },
  {
   "cell_type": "code",
   "execution_count": null,
   "metadata": {
    "collapsed": false
   },
   "outputs": [],
   "source": [
    "print(ttest_ind(Over250[\"Percent Insured; Estimate; AGE - 18 to 64 years\"], Lower250[\"Percent Insured; Estimate; AGE - 18 to 64 years\"]))\n",
    "print(ttest_ind(Over250[\"Percent with Associate's Degree\"], Lower250[\"Percent with Associate's Degree\"]))\n",
    "print(ttest_ind(Over250[\"% African American\"], Lower250[\"% African American\"]))\n",
    "print(ttest_ind(Over250[\"Deductible\"], Lower250[\"Deductible\"]))\n",
    "print(ttest_ind(Over250[\"Per capita income\"], Lower250[\"Per capita income\"]))\n",
    "print(ttest_ind(Over250[\"% Rural\"], Lower250[\"% Rural\"]))\n",
    "print(ttest_ind(Over250[\"Number Of Insurers\"], Lower250[\"Number Of Insurers\"]))\n",
    "print(ttest_ind(Over250[\"% African American\"], Lower250[\"% African American\"]))\n",
    "print(ttest_ind(Over250[\"Average Daily PM2.5\"], Lower250[\"Average Daily PM2.5\"]))\n",
    "print(ttest_ind(Over250[\"% Physically Inactive\"], Lower250[\"% Physically Inactive\"]))"
   ]
  },
  {
   "cell_type": "code",
   "execution_count": null,
   "metadata": {
    "collapsed": false
   },
   "outputs": [],
   "source": [
    "BCBSTX2015=SilverModelDF[SilverModelDF[\"Issuer Name\"]==\"Blue Cross and Blue Shield of Texas\"]\n",
    "BCBSTX2015X=BCBSTX2015[[\"Percent Insured; Estimate; AGE - 18 to 64 years\", \"Percent with Associate's Degree\", \"% African American\", \"Deductible\", \"Per capita income\", \"% Rural\", \"Number Of Insurers\", \"Average Daily PM2.5\", \"% Physically Inactive\"]]"
   ]
  },
  {
   "cell_type": "code",
   "execution_count": null,
   "metadata": {
    "collapsed": false
   },
   "outputs": [],
   "source": [
    "BCBSTX2015X=sm.add_constant(BCBSTX2015X)\n",
    "model=smf.OLS(BCBSTX2015[\"Premium Adult Individual Age 27\"], BCBSTX2015X).fit()\n",
    "model.summary()"
   ]
  },
  {
   "cell_type": "code",
   "execution_count": null,
   "metadata": {
    "collapsed": false
   },
   "outputs": [],
   "source": []
  },
  {
   "cell_type": "code",
   "execution_count": null,
   "metadata": {
    "collapsed": false
   },
   "outputs": [],
   "source": [
    "Lower250[\"County\"].value_counts()"
   ]
  },
  {
   "cell_type": "code",
   "execution_count": null,
   "metadata": {
    "collapsed": false
   },
   "outputs": [],
   "source": [
    "Over250[\"Rating Area\"].value_counts()"
   ]
  },
  {
   "cell_type": "code",
   "execution_count": null,
   "metadata": {
    "collapsed": false
   },
   "outputs": [],
   "source": [
    "PresenceInsurerModel=PresenceInsurerModel.fillna(0)"
   ]
  },
  {
   "cell_type": "code",
   "execution_count": null,
   "metadata": {
    "collapsed": false
   },
   "outputs": [],
   "source": [
    "PresenceX=PresenceInsurerModel[[\"Percent Insured; Estimate; AGE - 18 to 64 years\", \"Percent with Associate's Degree\", \"% African American\", \"Per capita income\", \"% Rural\", \"% Physically Inactive\", \"Food Environment Index\", \"Beds\"]]\n",
    "\n",
    "model=LogisticRegression(fit_intercept=True)\n",
    "\n",
    "for i in range(len(SilverModelDF[\"Issuer Name\"].unique())-1):\n",
    "    scores = cross_val_score(LogisticRegression(), PresenceX, PresenceInsurerModel[SilverModelDF[\"Issuer Name\"].unique()[i+1]], scoring='accuracy', cv=5)\n",
    "    print(SilverModelDF[\"Issuer Name\"].unique()[i+1])\n",
    "    print(scores.mean())\n",
    "#print(model.score(PresenceX, PresenceInsurerModel[\"FirstCare Health Plans\"]))\n",
    "#print(PresenceInsurerModel[\"FirstCare Health Plans\"].mean())"
   ]
  },
  {
   "cell_type": "code",
   "execution_count": null,
   "metadata": {
    "collapsed": false
   },
   "outputs": [],
   "source": [
    "objects = ('Blue Cross and Blue Shield of Texas', 'FirstCare Health Plans',\n",
    "       'Humana, Inc.', 'Aetna', 'Scott and White Health Plan',\n",
    "       'Cigna Healthcare', 'Ambetter from Superior Health Plan',\n",
    "       'Sendero Health Plans', 'CommunityFirst', 'Allegian Choice',\n",
    "       'UnitedHealthcare', 'Community Health Choice', 'Molina Marketplace')\n",
    "y_pos = np.arange(len(objects))\n",
    "presenceRatio=[]\n",
    "for i in objects:\n",
    "    presenceRatio.append(PresenceInsurerModel[i].value_counts()[1])\n",
    " \n",
    "plt.barh(y_pos, presenceRatio, align='center', alpha=0.5)\n",
    "plt.yticks(y_pos, objects)\n",
    "plt.ylabel('Insurers')\n",
    "plt.xlabel(\"Number of Counties that Insurer is Present\")\n",
    "plt.title('Presence of Insurer in Counties of Texas')\n",
    " \n",
    "plt.show()"
   ]
  },
  {
   "cell_type": "code",
   "execution_count": null,
   "metadata": {
    "collapsed": false
   },
   "outputs": [],
   "source": [
    "PresenceInsurerModel['is_train'] = np.random.uniform(0, 1, len(PresenceInsurerModel)) <= .75"
   ]
  },
  {
   "cell_type": "code",
   "execution_count": null,
   "metadata": {
    "collapsed": true
   },
   "outputs": [],
   "source": [
    "train, test = PresenceInsurerModel[PresenceInsurerModel['is_train']==True], PresenceInsurerModel[PresenceInsurerModel['is_train']==False]"
   ]
  },
  {
   "cell_type": "code",
   "execution_count": null,
   "metadata": {
    "collapsed": false
   },
   "outputs": [],
   "source": [
    "print('Number of observations in the training data:', len(train))\n",
    "print('Number of observations in the test data:',len(test))"
   ]
  },
  {
   "cell_type": "code",
   "execution_count": null,
   "metadata": {
    "collapsed": false
   },
   "outputs": [],
   "source": [
    "clf = RandomForestClassifier(n_jobs=2)\n",
    "clf.fit(train[[\"Percent; Estimate; Population 25 years and over - Less than 9th grade\", \"Percent; Estimate; Population 25 years and over - 9th to 12th grade, no diploma\", \"Percent; Estimate; Population 25 years and over - High school graduate (includes equivalency)\", \"Percent; Estimate; Population 25 years and over - Some college, no degree\", \"Percent; Estimate; Population 25 years and over - Bachelor's degree\", \"Percent; Estimate; Population 25 years and over - Graduate or professional degree\", \"Percent; Estimate; Percent high school graduate or higher\", \"Percent Uninsured; Estimate; Civilian noninstitutionalized population\", \"Percent Insured; Estimate; Civilian noninstitutionalized population\", \"Total; Estimate; AGE - 18 to 64 years\", \"Percent Insured; Estimate; AGE - 18 to 64 years\", \"Percent Uninsured; Estimate; AGE - 18 to 64 years\", \"Percent; EMPLOYMENT STATUS - Population 16 years and over - In labor force\", \"Percent; EMPLOYMENT STATUS - Population 16 years and over - In labor force - Civilian labor force - Employed\", \"Percent; EMPLOYMENT STATUS - Civilian labor force - Unemployment Rate\", \"Per capita income\", \"% Obese\", \"Food Environment Index\", \"% Physically Inactive\", \"% Uninsured\", \"Income Ratio\", \"Average Daily PM2.5\", \"% Severe Housing Problems\", \"% Hispanic\", \"% African American\", \"% Rural\", \"% Diabetic\", \"% Food Insecure\"]], train[\"FirstCare Health Plans\"])"
   ]
  },
  {
   "cell_type": "code",
   "execution_count": null,
   "metadata": {
    "collapsed": false,
    "scrolled": true
   },
   "outputs": [],
   "source": [
    "clf.predict(test[[\"Percent; Estimate; Population 25 years and over - Less than 9th grade\", \"Percent; Estimate; Population 25 years and over - 9th to 12th grade, no diploma\", \"Percent; Estimate; Population 25 years and over - High school graduate (includes equivalency)\", \"Percent; Estimate; Population 25 years and over - Some college, no degree\", \"Percent; Estimate; Population 25 years and over - Bachelor's degree\", \"Percent; Estimate; Population 25 years and over - Graduate or professional degree\", \"Percent; Estimate; Percent high school graduate or higher\", \"Percent Uninsured; Estimate; Civilian noninstitutionalized population\", \"Percent Insured; Estimate; Civilian noninstitutionalized population\", \"Total; Estimate; AGE - 18 to 64 years\", \"Percent Insured; Estimate; AGE - 18 to 64 years\", \"Percent Uninsured; Estimate; AGE - 18 to 64 years\", \"Percent; EMPLOYMENT STATUS - Population 16 years and over - In labor force\", \"Percent; EMPLOYMENT STATUS - Population 16 years and over - In labor force - Civilian labor force - Employed\", \"Percent; EMPLOYMENT STATUS - Civilian labor force - Unemployment Rate\", \"Per capita income\", \"% Obese\", \"Food Environment Index\", \"% Physically Inactive\", \"% Uninsured\", \"Income Ratio\", \"Average Daily PM2.5\", \"% Severe Housing Problems\", \"% Hispanic\", \"% African American\", \"% Rural\", \"% Diabetic\", \"% Food Insecure\"]])"
   ]
  },
  {
   "cell_type": "code",
   "execution_count": null,
   "metadata": {
    "collapsed": false
   },
   "outputs": [],
   "source": [
    "clf.predict_proba(test[[\"Percent; Estimate; Population 25 years and over - Less than 9th grade\", \"Percent; Estimate; Population 25 years and over - 9th to 12th grade, no diploma\", \"Percent; Estimate; Population 25 years and over - High school graduate (includes equivalency)\", \"Percent; Estimate; Population 25 years and over - Some college, no degree\", \"Percent; Estimate; Population 25 years and over - Bachelor's degree\", \"Percent; Estimate; Population 25 years and over - Graduate or professional degree\", \"Percent; Estimate; Percent high school graduate or higher\", \"Percent Uninsured; Estimate; Civilian noninstitutionalized population\", \"Percent Insured; Estimate; Civilian noninstitutionalized population\", \"Total; Estimate; AGE - 18 to 64 years\", \"Percent Insured; Estimate; AGE - 18 to 64 years\", \"Percent Uninsured; Estimate; AGE - 18 to 64 years\", \"Percent; EMPLOYMENT STATUS - Population 16 years and over - In labor force\", \"Percent; EMPLOYMENT STATUS - Population 16 years and over - In labor force - Civilian labor force - Employed\", \"Percent; EMPLOYMENT STATUS - Civilian labor force - Unemployment Rate\", \"Per capita income\", \"% Obese\", \"Food Environment Index\", \"% Physically Inactive\", \"% Uninsured\", \"Income Ratio\", \"Average Daily PM2.5\", \"% Severe Housing Problems\", \"% Hispanic\", \"% African American\", \"% Rural\", \"% Diabetic\", \"% Food Insecure\"]])[0:10]"
   ]
  },
  {
   "cell_type": "code",
   "execution_count": null,
   "metadata": {
    "collapsed": false
   },
   "outputs": [],
   "source": [
    "#preds = PresenceInsurerModel.target_names[clf.predict(test[[\"Percent Insured; Estimate; AGE - 18 to 64 years\", \"Percent with Associate's Degree\", \"% African American\", \"Per capita income\", \"% Rural\", \"% Physically Inactive\", \"Food Environment Index\"]])]"
   ]
  },
  {
   "cell_type": "code",
   "execution_count": null,
   "metadata": {
    "collapsed": false
   },
   "outputs": [],
   "source": [
    "pd.crosstab(test[\"FirstCare Health Plans\"], clf.predict(test[[\"Percent; Estimate; Population 25 years and over - Less than 9th grade\", \"Percent; Estimate; Population 25 years and over - 9th to 12th grade, no diploma\", \"Percent; Estimate; Population 25 years and over - High school graduate (includes equivalency)\", \"Percent; Estimate; Population 25 years and over - Some college, no degree\", \"Percent; Estimate; Population 25 years and over - Bachelor's degree\", \"Percent; Estimate; Population 25 years and over - Graduate or professional degree\", \"Percent; Estimate; Percent high school graduate or higher\", \"Percent Uninsured; Estimate; Civilian noninstitutionalized population\", \"Percent Insured; Estimate; Civilian noninstitutionalized population\", \"Total; Estimate; AGE - 18 to 64 years\", \"Percent Insured; Estimate; AGE - 18 to 64 years\", \"Percent Uninsured; Estimate; AGE - 18 to 64 years\", \"Percent; EMPLOYMENT STATUS - Population 16 years and over - In labor force\", \"Percent; EMPLOYMENT STATUS - Population 16 years and over - In labor force - Civilian labor force - Employed\", \"Percent; EMPLOYMENT STATUS - Civilian labor force - Unemployment Rate\", \"Per capita income\", \"% Obese\", \"Food Environment Index\", \"% Physically Inactive\", \"% Uninsured\", \"Income Ratio\", \"Average Daily PM2.5\", \"% Severe Housing Problems\", \"% Hispanic\", \"% African American\", \"% Rural\", \"% Diabetic\", \"% Food Insecure\"]]), rownames=['Actual Presence'], colnames=['Predicted Presence'])"
   ]
  },
  {
   "cell_type": "code",
   "execution_count": null,
   "metadata": {
    "collapsed": false
   },
   "outputs": [],
   "source": [
    "print (np.mean(cross_val_score(clf, PresenceX, PresenceInsurerModel[\"FirstCare Health Plans\"], cv=10, scoring=\"accuracy\")))"
   ]
  },
  {
   "cell_type": "code",
   "execution_count": null,
   "metadata": {
    "collapsed": false
   },
   "outputs": [],
   "source": [
    "list(zip(train[[\"Percent; Estimate; Population 25 years and over - Less than 9th grade\", \"Percent; Estimate; Population 25 years and over - 9th to 12th grade, no diploma\", \"Percent; Estimate; Population 25 years and over - High school graduate (includes equivalency)\", \"Percent; Estimate; Population 25 years and over - Some college, no degree\", \"Percent; Estimate; Population 25 years and over - Bachelor's degree\", \"Percent; Estimate; Population 25 years and over - Graduate or professional degree\", \"Percent; Estimate; Percent high school graduate or higher\", \"Percent Uninsured; Estimate; Civilian noninstitutionalized population\", \"Percent Insured; Estimate; Civilian noninstitutionalized population\", \"Total; Estimate; AGE - 18 to 64 years\", \"Percent Insured; Estimate; AGE - 18 to 64 years\", \"Percent Uninsured; Estimate; AGE - 18 to 64 years\", \"Percent; EMPLOYMENT STATUS - Population 16 years and over - In labor force\", \"Percent; EMPLOYMENT STATUS - Population 16 years and over - In labor force - Civilian labor force - Employed\", \"Percent; EMPLOYMENT STATUS - Civilian labor force - Unemployment Rate\", \"Per capita income\", \"% Obese\", \"Food Environment Index\", \"% Physically Inactive\", \"% Uninsured\", \"Income Ratio\", \"Average Daily PM2.5\", \"% Severe Housing Problems\", \"% Hispanic\", \"% African American\", \"% Rural\", \"% Diabetic\", \"% Food Insecure\"]], clf.feature_importances_))"
   ]
  },
  {
   "cell_type": "code",
   "execution_count": null,
   "metadata": {
    "collapsed": false
   },
   "outputs": [],
   "source": [
    "y=[]\n",
    "for j in range(len(PresenceInsurer)):\n",
    "    x=[]\n",
    "    for i in PresenceInsurer[sorted(SilverModelDF[\"Issuer Name\"].unique())]:\n",
    "        x.append(PresenceInsurer[i][j])\n",
    "        \n",
    "    y.append(x)\n",
    "    #PresenceInsurer[\"Y\"][j]=x\n",
    "    "
   ]
  },
  {
   "cell_type": "code",
   "execution_count": null,
   "metadata": {
    "collapsed": false
   },
   "outputs": [],
   "source": [
    "Y= pd.Series(y)\n",
    "PresenceInsurer[\"Y\"]=Y.values"
   ]
  },
  {
   "cell_type": "code",
   "execution_count": null,
   "metadata": {
    "collapsed": false
   },
   "outputs": [],
   "source": [
    "np.matrix(PresenceInsurer[SilverModelDF[\"Issuer Name\"].unique()])\n",
    "np.matrix(train[[\"Percent; Estimate; Population 25 years and over - Less than 9th grade\", \"Percent; Estimate; Population 25 years and over - 9th to 12th grade, no diploma\", \"Percent; Estimate; Population 25 years and over - High school graduate (includes equivalency)\", \"Percent; Estimate; Population 25 years and over - Some college, no degree\", \"Percent; Estimate; Population 25 years and over - Bachelor's degree\", \"Percent; Estimate; Population 25 years and over - Graduate or professional degree\", \"Percent; Estimate; Percent high school graduate or higher\", \"Percent Uninsured; Estimate; Civilian noninstitutionalized population\", \"Percent Insured; Estimate; Civilian noninstitutionalized population\", \"Total; Estimate; AGE - 18 to 64 years\", \"Percent Insured; Estimate; AGE - 18 to 64 years\", \"Percent Uninsured; Estimate; AGE - 18 to 64 years\", \"Percent; EMPLOYMENT STATUS - Population 16 years and over - In labor force\", \"Percent; EMPLOYMENT STATUS - Population 16 years and over - In labor force - Civilian labor force - Employed\", \"Percent; EMPLOYMENT STATUS - Civilian labor force - Unemployment Rate\", \"Per capita income\", \"% Obese\", \"Food Environment Index\", \"% Physically Inactive\", \"% Uninsured\", \"Income Ratio\", \"Average Daily PM2.5\", \"% Severe Housing Problems\", \"% Hispanic\", \"% African American\", \"% Rural\", \"% Diabetic\", \"% Food Insecure\"]]).shape\n",
    "\n",
    "train.shape"
   ]
  },
  {
   "cell_type": "code",
   "execution_count": null,
   "metadata": {
    "collapsed": false
   },
   "outputs": [],
   "source": [
    "clf=MLkNN(k=10)\n",
    "clf.fit(np.matrix(train[[\"Percent; Estimate; Population 25 years and over - Bachelor's degree\", \"Percent; Estimate; Percent high school graduate or higher\",  \"Total; Estimate; AGE - 18 to 64 years\", \"Percent Uninsured; Estimate; AGE - 18 to 64 years\", \"Percent; EMPLOYMENT STATUS - Population 16 years and over - In labor force\", \"Percent; EMPLOYMENT STATUS - Population 16 years and over - In labor force - Civilian labor force - Employed\", \"Percent; EMPLOYMENT STATUS - Civilian labor force - Unemployment Rate\", \"Per capita income\", \"% Obese\", \"Food Environment Index\", \"% Physically Inactive\", \"% Uninsured\", \"Income Ratio\", \"Average Daily PM2.5\", \"% Severe Housing Problems\", \"% Hispanic\", \"% African American\", \"% Rural\", \"% Diabetic\", \"% Food Insecure\"]]), np.matrix(train[SilverModelDF[\"Issuer Name\"].unique()]))"
   ]
  },
  {
   "cell_type": "code",
   "execution_count": null,
   "metadata": {
    "collapsed": false
   },
   "outputs": [],
   "source": [
    "pred=clf.predict(test[[\"Percent; Estimate; Population 25 years and over - Bachelor's degree\", \"Percent; Estimate; Percent high school graduate or higher\",  \"Total; Estimate; AGE - 18 to 64 years\", \"Percent Uninsured; Estimate; AGE - 18 to 64 years\", \"Percent; EMPLOYMENT STATUS - Population 16 years and over - In labor force\", \"Percent; EMPLOYMENT STATUS - Population 16 years and over - In labor force - Civilian labor force - Employed\", \"Percent; EMPLOYMENT STATUS - Civilian labor force - Unemployment Rate\", \"Per capita income\", \"% Obese\", \"Food Environment Index\", \"% Physically Inactive\", \"% Uninsured\", \"Income Ratio\", \"Average Daily PM2.5\", \"% Severe Housing Problems\", \"% Hispanic\", \"% African American\", \"% Rural\", \"% Diabetic\", \"% Food Insecure\"]])"
   ]
  },
  {
   "cell_type": "code",
   "execution_count": null,
   "metadata": {
    "collapsed": false
   },
   "outputs": [],
   "source": [
    "#pd.crosstab(test[SilverModelDF[\"Issuer Name\"].unique()], pred, rownames=['Actual Presence'], colnames=['Predicted Presence'])"
   ]
  },
  {
   "cell_type": "code",
   "execution_count": null,
   "metadata": {
    "collapsed": false
   },
   "outputs": [],
   "source": [
    "prob=clf.predict_proba(test[[\"Percent; Estimate; Population 25 years and over - Bachelor's degree\", \"Percent; Estimate; Percent high school graduate or higher\",  \"Total; Estimate; AGE - 18 to 64 years\", \"Percent Uninsured; Estimate; AGE - 18 to 64 years\", \"Percent; EMPLOYMENT STATUS - Population 16 years and over - In labor force\", \"Percent; EMPLOYMENT STATUS - Population 16 years and over - In labor force - Civilian labor force - Employed\", \"Percent; EMPLOYMENT STATUS - Civilian labor force - Unemployment Rate\", \"Per capita income\", \"% Obese\", \"Food Environment Index\", \"% Physically Inactive\", \"% Uninsured\", \"Income Ratio\", \"Average Daily PM2.5\", \"% Severe Housing Problems\", \"% Hispanic\", \"% African American\", \"% Rural\", \"% Diabetic\", \"% Food Insecure\"]])"
   ]
  },
  {
   "cell_type": "code",
   "execution_count": null,
   "metadata": {
    "collapsed": false
   },
   "outputs": [],
   "source": [
    "metrics.hamming_loss(np.matrix(test[SilverModelDF[\"Issuer Name\"].unique()]), pred)"
   ]
  },
  {
   "cell_type": "code",
   "execution_count": null,
   "metadata": {
    "collapsed": false
   },
   "outputs": [],
   "source": [
    "accuracy_score(np.matrix(test[SilverModelDF[\"Issuer Name\"].unique()]), pred)\n",
    "#exact match"
   ]
  },
  {
   "cell_type": "code",
   "execution_count": null,
   "metadata": {
    "collapsed": false
   },
   "outputs": [],
   "source": [
    "metrics.average_precision_score(test[SilverModelDF[\"Issuer Name\"].unique()], prob.toarray())"
   ]
  },
  {
   "cell_type": "code",
   "execution_count": null,
   "metadata": {
    "collapsed": false
   },
   "outputs": [],
   "source": [
    "def hamming_score(y_true, y_pred, normalize=True, sample_weight=None):\n",
    "    '''\n",
    "    Compute the Hamming score (a.k.a. label-based accuracy) for the multi-label case\n",
    "    http://stackoverflow.com/q/32239577/395857\n",
    "    '''\n",
    "    acc_list = []\n",
    "    for i in range(y_true.shape[0]):\n",
    "        set_true = set( np.where(y_true[i])[0] )\n",
    "        set_pred = set( np.where(y_pred[i])[0] )\n",
    "        #print('\\nset_true: {0}'.format(set_true))\n",
    "        #print('set_pred: {0}'.format(set_pred))\n",
    "        tmp_a = None\n",
    "        if len(set_true) == 0 and len(set_pred) == 0:\n",
    "            tmp_a = 1\n",
    "        else:\n",
    "            tmp_a = len(set_true.intersection(set_pred))/\\\n",
    "                    float( len(set_true.union(set_pred)) )\n",
    "        #print('tmp_a: {0}'.format(tmp_a))\n",
    "        acc_list.append(tmp_a)\n",
    "    return np.mean(acc_list)\n",
    "\n",
    "'''\n",
    "if __name__ == \"__main__\":\n",
    "    print('Hamming score: {0}'.format(hamming_score(test[SilverModelDF[\"Issuer Name\"].unique()], pred))) # 0.375 (= (0.5+1+0+0)/4)\n",
    "\n",
    "\n",
    "    # Subset accuracy\n",
    "    # 0.25 (= 0+1+0+0 / 4) --> 1 if the prediction for one sample fully matches the gold. 0 otherwise.\n",
    "    print('Subset accuracy: {0}'.format(sklearn.metrics.accuracy_score(test[SilverModelDF[\"Issuer Name\"].unique()], pred, normalize=True, sample_weight=None)))\n",
    "\n",
    "    # Hamming loss (smaller is better)\n",
    "    # $$ \\text{HammingLoss}(x_i, y_i) = \\frac{1}{|D|} \\sum_{i=1}^{|D|} \\frac{xor(x_i, y_i)}{|L|}, $$\n",
    "    # where\n",
    "    #  - \\\\(|D|\\\\) is the number of samples  \n",
    "    #  - \\\\(|L|\\\\) is the number of labels  \n",
    "    #  - \\\\(y_i\\\\) is the ground truth  \n",
    "    #  - \\\\(x_i\\\\)  is the prediction.  \n",
    "    # 0.416666666667 (= (1+0+3+1) / (3*4) )\n",
    "    print('Hamming loss: {0}'.format(sklearn.metrics.hamming_loss(test[SilverModelDF[\"Issuer Name\"].unique()], pred))) \n",
    "    \n",
    "'''"
   ]
  },
  {
   "cell_type": "code",
   "execution_count": null,
   "metadata": {
    "collapsed": false
   },
   "outputs": [],
   "source": [
    "#hamming_score(test[SilverModelDF[\"Issuer Name\"].unique()], pred)\n",
    "y_tru=test[SilverModelDF[\"Issuer Name\"].unique()]\n",
    "\n",
    "#y_tru[1]\n",
    "\n",
    "#np.where(test[SilverModelDF[\"Issuer Name\"].unique()][0])"
   ]
  },
  {
   "cell_type": "code",
   "execution_count": null,
   "metadata": {
    "collapsed": false
   },
   "outputs": [],
   "source": [
    "groupTX=TXplans2015.groupby([\"Rating Area\", \"County\"])[\"Premium Adult Individual Age 27\"].mean().reset_index()\n",
    "groupTX=groupTX.sort_values(\"County\").reset_index()"
   ]
  },
  {
   "cell_type": "code",
   "execution_count": null,
   "metadata": {
    "collapsed": false
   },
   "outputs": [],
   "source": [
    "groupTX.head()"
   ]
  },
  {
   "cell_type": "code",
   "execution_count": null,
   "metadata": {
    "collapsed": false
   },
   "outputs": [],
   "source": [
    "s=[]\n",
    "for i in groupTX[\"Rating Area\"]:\n",
    "    s.append(i.split()[-1])\n",
    "\n",
    "groupTX[\"Rating Area Number\"]=pd.Series(s)"
   ]
  },
  {
   "cell_type": "code",
   "execution_count": null,
   "metadata": {
    "collapsed": false
   },
   "outputs": [],
   "source": [
    "PresenceInsurerModel=pd.merge(PresenceInsurerModel, groupTX)"
   ]
  },
  {
   "cell_type": "code",
   "execution_count": null,
   "metadata": {
    "collapsed": false
   },
   "outputs": [],
   "source": [
    "PresenceInsurerModel=PresenceInsurerModel.drop(\"index\", axis=1)"
   ]
  },
  {
   "cell_type": "code",
   "execution_count": null,
   "metadata": {
    "collapsed": false
   },
   "outputs": [],
   "source": [
    "PresenceInsurerModel.to_csv(\"PresenceInsurers.csv\")"
   ]
  },
  {
   "cell_type": "code",
   "execution_count": null,
   "metadata": {
    "collapsed": false
   },
   "outputs": [],
   "source": [
    "TX2017=plans2017[plans2017[\"State Code\"]==\"TX\"]"
   ]
  },
  {
   "cell_type": "code",
   "execution_count": null,
   "metadata": {
    "collapsed": false
   },
   "outputs": [],
   "source": [
    "TX2017[\"Issuer Name\"].unique()"
   ]
  },
  {
   "cell_type": "code",
   "execution_count": null,
   "metadata": {
    "collapsed": true
   },
   "outputs": [],
   "source": [
    "TX2016=plans2016[plans2016[\"State Code\"]==\"TX\"]"
   ]
  },
  {
   "cell_type": "code",
   "execution_count": null,
   "metadata": {
    "collapsed": false
   },
   "outputs": [],
   "source": [
    "TX2016[\"Issuer Name\"].unique()"
   ]
  }
 ],
 "metadata": {
  "anaconda-cloud": {},
  "kernelspec": {
   "display_name": "Python [conda root]",
   "language": "python",
   "name": "conda-root-py"
  },
  "language_info": {
   "codemirror_mode": {
    "name": "ipython",
    "version": 3
   },
   "file_extension": ".py",
   "mimetype": "text/x-python",
   "name": "python",
   "nbconvert_exporter": "python",
   "pygments_lexer": "ipython3",
   "version": "3.5.2"
  }
 },
 "nbformat": 4,
 "nbformat_minor": 1
}
